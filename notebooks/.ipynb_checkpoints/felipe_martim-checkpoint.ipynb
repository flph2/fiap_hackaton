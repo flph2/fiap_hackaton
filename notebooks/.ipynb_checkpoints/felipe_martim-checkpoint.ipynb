{
 "cells": [
  {
   "cell_type": "code",
   "execution_count": 1,
   "metadata": {},
   "outputs": [],
   "source": [
    "# import necessary libraries\n",
    "import pandas as pd \n",
    "import numpy\n",
    "import matplotlib.pyplot as plt \n",
    "from pyspark.sql import SparkSession"
   ]
  },
  {
   "cell_type": "code",
   "execution_count": 2,
   "metadata": {},
   "outputs": [
    {
     "name": "stdout",
     "output_type": "stream",
     "text": [
      "Collecting pymysql\n",
      "  Downloading PyMySQL-0.9.3-py2.py3-none-any.whl (47 kB)\n",
      "\u001b[K     |████████████████████████████████| 47 kB 2.6 MB/s eta 0:00:01\n",
      "\u001b[?25hInstalling collected packages: pymysql\n",
      "Successfully installed pymysql-0.9.3\n"
     ]
    }
   ],
   "source": [
    "get_ipython().system('pip install pymysql')"
   ]
  },
  {
   "cell_type": "code",
   "execution_count": 12,
   "metadata": {},
   "outputs": [
    {
     "data": {
      "text/plain": [
       "38102"
      ]
     },
     "execution_count": 12,
     "metadata": {},
     "output_type": "execute_result"
    }
   ],
   "source": [
    "import pymysql\n",
    "conn = pymysql.connect(host='db', user='root', passwd='123', db='invest')\n",
    "cursor = conn.cursor()\n",
    "cursor.execute(\"select * from Perfil;\")"
   ]
  },
  {
   "cell_type": "code",
   "execution_count": 13,
   "metadata": {},
   "outputs": [],
   "source": [
    "data=cursor.fetchall()"
   ]
  },
  {
   "cell_type": "code",
   "execution_count": 15,
   "metadata": {},
   "outputs": [],
   "source": [
    "from pyspark.sql import SparkSession\n",
    "\n",
    "spark = SparkSession.builder.appName(\"Python Spark SQL basic example\").config(\"spark.some.config.option\", \"some-value\").getOrCreate()"
   ]
  },
  {
   "cell_type": "code",
   "execution_count": 16,
   "metadata": {},
   "outputs": [],
   "source": [
    "df = spark.createDataFrame(data , [\"dataId\", \"ClienteId\", \"Idade\", \"EstadoCivil\", \"BillingCity\", \"NivelConhecimentoAtual\", \"ScoreNivelConhecimento\", \"PerfilInvestidor\", \"RendaMensal\", \"ValorPatrimonio\", \"Pergunta1\", \"Resposta11\", \"Pergunta2\", \"Resposta21\", \"Pergunta3\", \"Resposta31\", \"Pergunta4\", \"Resposta41\", \"Pergunta5\", \"Resposta51\", \"Resposta52\", \"Resposta53\", \"Resposta54\", \"Resposta55\", \"Resposta56\", \"Resposta57\", \"Resposta58\", \"Pergunta6\", \"Resposta61\", \"Resposta62\", \"Resposta63\", \"Resposta64\", \"Resposta65\", \"Resposta66\", \"Resposta67\", \"Resposta68\", \"Pergunta7\", \"Resposta71\", \"Resposta72\", \"Resposta73\", \"Resposta74\", \"Resposta75\", \"Pergunta8\", \"Resposta81\", \"Pergunta9\", \"Resposta91\", \"ScoreRisco\", \"ScoreObjetivos\", \"ScoreSituacaoFinanceira\", \"Produto\", \"NomeDoProduto\", \"NomeEmissor\", \"TaxaCliente\", \"TaxaPreCliente\", \"DescricaoProduto\", \"ValorMinimoAplicaInicial\", \"ValorMinimoAplicacaoAdicional\", \"DataVencimento\", \"FamiliaCarteira\", \"ValorInvestidoAtual\", \"ValorRendimento\", \"Rentabilidade12Meses\", \"RentabilidadeMes\", \"RiscoAtivo\", \"Status\", \"ProdutoId\"])"
   ]
  },
  {
   "cell_type": "code",
   "execution_count": 17,
   "metadata": {},
   "outputs": [
    {
     "name": "stdout",
     "output_type": "stream",
     "text": [
      "+------+--------------------+-----+-----------+-----------+----------------------+----------------------+----------------+-----------+---------------+--------------------+--------------------+--------------------+--------------------+--------------------+------------+--------------------+--------------------+--------------------+----------+----------+--------------+----------+----------+----------+----------+----------+--------------------+----------+----------+----------+----------+----------+----------+----------+----------+--------------------+----------+--------------------+----------+----------+----------+--------------------+--------------------+--------------------+----------+----------+--------------+-----------------------+------------------+--------------------+-----------+-----------+--------------+--------------------+------------------------+-----------------------------+--------------+---------------+-------------------+---------------+--------------------+----------------+----------+---------+------------------+\n",
      "|dataId|           ClienteId|Idade|EstadoCivil|BillingCity|NivelConhecimentoAtual|ScoreNivelConhecimento|PerfilInvestidor|RendaMensal|ValorPatrimonio|           Pergunta1|          Resposta11|           Pergunta2|          Resposta21|           Pergunta3|  Resposta31|           Pergunta4|          Resposta41|           Pergunta5|Resposta51|Resposta52|    Resposta53|Resposta54|Resposta55|Resposta56|Resposta57|Resposta58|           Pergunta6|Resposta61|Resposta62|Resposta63|Resposta64|Resposta65|Resposta66|Resposta67|Resposta68|           Pergunta7|Resposta71|          Resposta72|Resposta73|Resposta74|Resposta75|           Pergunta8|          Resposta81|           Pergunta9|Resposta91|ScoreRisco|ScoreObjetivos|ScoreSituacaoFinanceira|           Produto|       NomeDoProduto|NomeEmissor|TaxaCliente|TaxaPreCliente|    DescricaoProduto|ValorMinimoAplicaInicial|ValorMinimoAplicacaoAdicional|DataVencimento|FamiliaCarteira|ValorInvestidoAtual|ValorRendimento|Rentabilidade12Meses|RentabilidadeMes|RiscoAtivo|   Status|         ProdutoId|\n",
      "+------+--------------------+-----+-----------+-----------+----------------------+----------------------+----------------+-----------+---------------+--------------------+--------------------+--------------------+--------------------+--------------------+------------+--------------------+--------------------+--------------------+----------+----------+--------------+----------+----------+----------+----------+----------+--------------------+----------+----------+----------+----------+----------+----------+----------+----------+--------------------+----------+--------------------+----------+----------+----------+--------------------+--------------------+--------------------+----------+----------+--------------+-----------------------+------------------+--------------------+-----------+-----------+--------------+--------------------+------------------------+-----------------------------+--------------+---------------+-------------------+---------------+--------------------+----------------+----------+---------+------------------+\n",
      "|     0|$2b$10$.DCvvJ9WSD...|   30|          M|    Aracruz|                   1.0|                   1.0|               2|     1300.0|         6000.0|Por quanto tempo ...|          AtÃ© 1 ano|Quando pensa em i...|Acumular dinheiro...|Dos seus investim...|    AtÃ© 30%|Agora imagine que...|Resgato parcialme...|Quais desses prod...| PoupanÃ§a|          |CDB, LCA e LCI|          |          |          |          |          |Quais desses prod...|          |          |          |          |          |          |          |          |Agora nos conte c...| PoupanÃ§a|Renda FIxa (CDB, ...|          |          |          |Quanto da sua ren...|Menor ou igual a ...|Tem alguma formaÃ...|NÃ£o tenho|       2.0|           2.0|                    1.0|a0W6A000009GZdgUAG|PI SELIC RF SIMPL...|           |           |              |PI TESOURO SELIC ...|                        |                         30.0|              |     Renda Fixa|               30.0|               |                 0.0|      0.37005375|       1.0|Efetivada|a0W6A000009GZdgUAG|\n",
      "|     1|$2b$10$.DCvvJ9WSD...|   25|          S|   Teresina|                   1.0|                   1.0|               2|      500.0|               |Por quanto tempo ...|NÃ£o tenho tempo ...|Quando pensa em i...|Multiplicar meu d...|Dos seus investim...|NÃ£o preciso|Agora imagine que...|Resgato parcialme...|Quais desses prod...| PoupanÃ§a|          |              |          |          |          |          |          |Quais desses prod...|          |          |          |          |          |          |          |          |Agora nos conte c...|          |                    |          |          |          |Quanto da sua ren...|Menor ou igual a ...|Tem alguma formaÃ...|NÃ£o tenho|       3.0|           3.0|                    1.0|a0W6A000009GZdgUAG|PI SELIC RF SIMPL...|           |           |              |                    |                        |                         30.0|              |     Renda Fixa|              150.0|               |                 0.0|      0.05684974|       1.0|Efetivada|a0W6A000009GZdgUAG|\n",
      "|     2|$2b$10$.DCvvJ9WSD...|   25|          S|   Teresina|                   1.0|                   1.0|               2|      500.0|               |Por quanto tempo ...|NÃ£o tenho tempo ...|Quando pensa em i...|Multiplicar meu d...|Dos seus investim...|NÃ£o preciso|Agora imagine que...|Resgato parcialme...|Quais desses prod...| PoupanÃ§a|          |              |          |          |          |          |          |Quais desses prod...|          |          |          |          |          |          |          |          |Agora nos conte c...|          |                    |          |          |          |Quanto da sua ren...|Menor ou igual a ...|Tem alguma formaÃ...|NÃ£o tenho|       3.0|           3.0|                    1.0|a0W6A000009GZdgUAG|PI SELIC RF SIMPL...|           |           |              |                    |                        |                         30.0|              |     Renda Fixa|               50.0|               |                 0.0|      0.05684974|       1.0|Efetivada|a0W6A000009GZdgUAG|\n",
      "|     3|$2b$10$.DCvvJ9WSD...|   25|          S|   Teresina|                   1.0|                   1.0|               2|      500.0|               |Por quanto tempo ...|NÃ£o tenho tempo ...|Quando pensa em i...|Multiplicar meu d...|Dos seus investim...|NÃ£o preciso|Agora imagine que...|Resgato parcialme...|Quais desses prod...| PoupanÃ§a|          |              |          |          |          |          |          |Quais desses prod...|          |          |          |          |          |          |          |          |Agora nos conte c...|          |                    |          |          |          |Quanto da sua ren...|Menor ou igual a ...|Tem alguma formaÃ...|NÃ£o tenho|       3.0|           3.0|                    1.0|a0W6A000009GZdgUAG|PI SELIC RF SIMPL...|           |           |              |                    |                        |                         30.0|              |     Renda Fixa|               60.0|               |                 0.0|      0.13178136|       1.0|Efetivada|a0W6A000009GZdgUAG|\n",
      "|     4|$2b$10$.DCvvJ9WSD...|   25|          S|   Teresina|                   1.0|                   1.0|               2|      500.0|               |Por quanto tempo ...|NÃ£o tenho tempo ...|Quando pensa em i...|Multiplicar meu d...|Dos seus investim...|NÃ£o preciso|Agora imagine que...|Resgato parcialme...|Quais desses prod...| PoupanÃ§a|          |              |          |          |          |          |          |Quais desses prod...|          |          |          |          |          |          |          |          |Agora nos conte c...|          |                    |          |          |          |Quanto da sua ren...|Menor ou igual a ...|Tem alguma formaÃ...|NÃ£o tenho|       3.0|           3.0|                    1.0|a0W6A000009GZdgUAG|PI SELIC RF SIMPL...|           |           |              |                    |                        |                         30.0|              |     Renda Fixa|               40.0|               |                 0.0|      0.15076414|       1.0|Efetivada|a0W6A000009GZdgUAG|\n",
      "|     5|$2b$10$.DCvvJ9WSD...|   25|          S|   Teresina|                   1.0|                   1.0|               2|      500.0|               |Por quanto tempo ...|NÃ£o tenho tempo ...|Quando pensa em i...|Multiplicar meu d...|Dos seus investim...|NÃ£o preciso|Agora imagine que...|Resgato parcialme...|Quais desses prod...| PoupanÃ§a|          |              |          |          |          |          |          |Quais desses prod...|          |          |          |          |          |          |          |          |Agora nos conte c...|          |                    |          |          |          |Quanto da sua ren...|Menor ou igual a ...|Tem alguma formaÃ...|NÃ£o tenho|       3.0|           3.0|                    1.0|a0W6A000009GZdgUAG|PI SELIC RF SIMPL...|           |           |              |PI TESOURO SELIC ...|                    30.0|                         30.0|              |     Renda Fixa|               30.0|               |                 0.0|       0.0930036|       1.0|Efetivada|a0W6A000009GZdgUAG|\n",
      "|     6|$2b$10$.DCvvJ9WSD...|   25|          S|   Teresina|                   1.0|                   1.0|               2|      500.0|               |Por quanto tempo ...|NÃ£o tenho tempo ...|Quando pensa em i...|Multiplicar meu d...|Dos seus investim...|NÃ£o preciso|Agora imagine que...|Resgato parcialme...|Quais desses prod...| PoupanÃ§a|          |              |          |          |          |          |          |Quais desses prod...|          |          |          |          |          |          |          |          |Agora nos conte c...|          |                    |          |          |          |Quanto da sua ren...|Menor ou igual a ...|Tem alguma formaÃ...|NÃ£o tenho|       3.0|           3.0|                    1.0|a0W6A000009GZdgUAG|PI SELIC RF SIMPL...|           |           |              |                    |                        |                         30.0|              |     Renda Fixa|              400.0|               |                 0.0|      0.03759919|       1.0|Efetivada|a0W6A000009GZdgUAG|\n",
      "|     7|$2b$10$.DCvvJ9WSD...|   25|          S|   Teresina|                   1.0|                   1.0|               2|      500.0|               |Por quanto tempo ...|NÃ£o tenho tempo ...|Quando pensa em i...|Multiplicar meu d...|Dos seus investim...|NÃ£o preciso|Agora imagine que...|Resgato parcialme...|Quais desses prod...| PoupanÃ§a|          |              |          |          |          |          |          |Quais desses prod...|          |          |          |          |          |          |          |          |Agora nos conte c...|          |                    |          |          |          |Quanto da sua ren...|Menor ou igual a ...|Tem alguma formaÃ...|NÃ£o tenho|       3.0|           3.0|                    1.0|a0W6A000009GZdgUAG|PI SELIC RF SIMPL...|           |           |              |                    |                        |                         30.0|              |     Renda Fixa|               70.0|               |                 0.0|      0.22613944|       1.0|Efetivada|a0W6A000009GZdgUAG|\n",
      "|     8|$2b$10$.DCvvJ9WSD...|   25|          S|   Teresina|                   1.0|                   1.0|               2|      500.0|               |Por quanto tempo ...|NÃ£o tenho tempo ...|Quando pensa em i...|Multiplicar meu d...|Dos seus investim...|NÃ£o preciso|Agora imagine que...|Resgato parcialme...|Quais desses prod...| PoupanÃ§a|          |              |          |          |          |          |          |Quais desses prod...|          |          |          |          |          |          |          |          |Agora nos conte c...|          |                    |          |          |          |Quanto da sua ren...|Menor ou igual a ...|Tem alguma formaÃ...|NÃ£o tenho|       3.0|           3.0|                    1.0|a0W6A000009R6mvUAC|JOJO WACHSMANN - ...|           |           |              |JOJO WACHSMANN - ...|                  1000.0|                        100.0|              |     Renda Fixa|             1000.0|               |                 0.0|      0.84967302|       4.0|Efetivada|a0W6A000009R6mvUAC|\n",
      "|     9|$2b$10$.DCvvJ9WSD...|   25|          S|   Teresina|                   1.0|                   1.0|               2|      500.0|               |Por quanto tempo ...|NÃ£o tenho tempo ...|Quando pensa em i...|Multiplicar meu d...|Dos seus investim...|NÃ£o preciso|Agora imagine que...|Resgato parcialme...|Quais desses prod...| PoupanÃ§a|          |              |          |          |          |          |          |Quais desses prod...|          |          |          |          |          |          |          |          |Agora nos conte c...|          |                    |          |          |          |Quanto da sua ren...|Menor ou igual a ...|Tem alguma formaÃ...|NÃ£o tenho|       3.0|           3.0|                    1.0|a0W6A000008FwYQUA0|SAM JURO REAL RF ...|           |           |              |SAM JURO REAL RF ...|                    30.0|                         30.0|              |     Renda Fixa|               30.0|               |  11.533339100000001|     -0.12585484|       3.0|Efetivada|a0W6A000008FwYQUA0|\n",
      "|    10|$2b$10$.DCvvJ9WSD...|   25|          S|   Teresina|                   1.0|                   1.0|               2|      500.0|               |Por quanto tempo ...|NÃ£o tenho tempo ...|Quando pensa em i...|Multiplicar meu d...|Dos seus investim...|NÃ£o preciso|Agora imagine que...|Resgato parcialme...|Quais desses prod...| PoupanÃ§a|          |              |          |          |          |          |          |Quais desses prod...|          |          |          |          |          |          |          |          |Agora nos conte c...|          |                    |          |          |          |Quanto da sua ren...|Menor ou igual a ...|Tem alguma formaÃ...|NÃ£o tenho|       3.0|           3.0|                    1.0|a0W6A000009L0FgUAK|RENATO SANTANIELL...|           |           |              |DANE-SE A IDADE M...|                    30.0|                         30.0|              |     Renda Fixa|               30.0|               |                 0.0|      0.20211567|       4.0|Efetivada|a0W6A000009L0FgUAK|\n",
      "|    11|$2b$10$.DCvvJ9WSD...|   25|          S|   Teresina|                   1.0|                   1.0|               2|      500.0|               |Por quanto tempo ...|NÃ£o tenho tempo ...|Quando pensa em i...|Multiplicar meu d...|Dos seus investim...|NÃ£o preciso|Agora imagine que...|Resgato parcialme...|Quais desses prod...| PoupanÃ§a|          |              |          |          |          |          |          |Quais desses prod...|          |          |          |          |          |          |          |          |Agora nos conte c...|          |                    |          |          |          |Quanto da sua ren...|Menor ou igual a ...|Tem alguma formaÃ...|NÃ£o tenho|       3.0|           3.0|                    1.0|a0W6A000009GZdgUAG|PI SELIC RF SIMPL...|           |           |              |                    |                        |                         30.0|              |     Renda Fixa|               30.0|               |                 0.0|      0.22613944|       1.0|Efetivada|a0W6A000009GZdgUAG|\n",
      "|    12|$2b$10$.DCvvJ9WSD...|   25|          S|   Teresina|                   1.0|                   1.0|               2|      500.0|               |Por quanto tempo ...|NÃ£o tenho tempo ...|Quando pensa em i...|Multiplicar meu d...|Dos seus investim...|NÃ£o preciso|Agora imagine que...|Resgato parcialme...|Quais desses prod...| PoupanÃ§a|          |              |          |          |          |          |          |Quais desses prod...|          |          |          |          |          |          |          |          |Agora nos conte c...|          |                    |          |          |          |Quanto da sua ren...|Menor ou igual a ...|Tem alguma formaÃ...|NÃ£o tenho|       3.0|           3.0|                    1.0|a0W6A000009GZdgUAG|PI SELIC RF SIMPL...|           |           |              |PI TESOURO SELIC ...|                    30.0|                         30.0|              |     Renda Fixa|              30.09|               |                 0.0|      0.15966496|       1.0|Efetivada|a0W6A000009GZdgUAG|\n",
      "|    13|$2b$10$.DCvvJ9WSD...|   25|          S|   Teresina|                   1.0|                   1.0|               2|      500.0|               |Por quanto tempo ...|NÃ£o tenho tempo ...|Quando pensa em i...|Multiplicar meu d...|Dos seus investim...|NÃ£o preciso|Agora imagine que...|Resgato parcialme...|Quais desses prod...| PoupanÃ§a|          |              |          |          |          |          |          |Quais desses prod...|          |          |          |          |          |          |          |          |Agora nos conte c...|          |                    |          |          |          |Quanto da sua ren...|Menor ou igual a ...|Tem alguma formaÃ...|NÃ£o tenho|       3.0|           3.0|                    1.0|a0W6A000009GZdgUAG|PI SELIC RF SIMPL...|           |           |              |                    |                        |                         30.0|              |     Renda Fixa|              100.0|               |                 0.0|      0.18808109|       1.0|Efetivada|a0W6A000009GZdgUAG|\n",
      "|    14|$2b$10$.DCvvJ9WSD...|   25|          S|   Teresina|                   1.0|                   1.0|               2|      500.0|               |Por quanto tempo ...|NÃ£o tenho tempo ...|Quando pensa em i...|Multiplicar meu d...|Dos seus investim...|NÃ£o preciso|Agora imagine que...|Resgato parcialme...|Quais desses prod...| PoupanÃ§a|          |              |          |          |          |          |          |Quais desses prod...|          |          |          |          |          |          |          |          |Agora nos conte c...|          |                    |          |          |          |Quanto da sua ren...|Menor ou igual a ...|Tem alguma formaÃ...|NÃ£o tenho|       3.0|           3.0|                    1.0|a0W6A000009GZdgUAG|PI SELIC RF SIMPL...|           |           |              |                    |                        |                         30.0|              |     Renda Fixa|              200.0|               |                 0.0|      0.06282642|       1.0|Efetivada|a0W6A000009GZdgUAG|\n",
      "|    15|$2b$10$.DCvvJ9WSD...|   25|          S|   Teresina|                   1.0|                   1.0|               2|      500.0|               |Por quanto tempo ...|NÃ£o tenho tempo ...|Quando pensa em i...|Multiplicar meu d...|Dos seus investim...|NÃ£o preciso|Agora imagine que...|Resgato parcialme...|Quais desses prod...| PoupanÃ§a|          |              |          |          |          |          |          |Quais desses prod...|          |          |          |          |          |          |          |          |Agora nos conte c...|          |                    |          |          |          |Quanto da sua ren...|Menor ou igual a ...|Tem alguma formaÃ...|NÃ£o tenho|       3.0|           3.0|                    1.0|a0W6A000009GZdgUAG|PI SELIC RF SIMPL...|           |           |              |PI TESOURO SELIC ...|                    30.0|                         30.0|              |     Renda Fixa|               30.0|               |                 0.0|      0.25105249|       1.0|Efetivada|a0W6A000009GZdgUAG|\n",
      "|    16|$2b$10$.DCvvJ9WSD...|   25|          S|   Teresina|                   1.0|                   1.0|               2|      500.0|               |Por quanto tempo ...|NÃ£o tenho tempo ...|Quando pensa em i...|Multiplicar meu d...|Dos seus investim...|NÃ£o preciso|Agora imagine que...|Resgato parcialme...|Quais desses prod...| PoupanÃ§a|          |              |          |          |          |          |          |Quais desses prod...|          |          |          |          |          |          |          |          |Agora nos conte c...|          |                    |          |          |          |Quanto da sua ren...|Menor ou igual a ...|Tem alguma formaÃ...|NÃ£o tenho|       3.0|           3.0|                    1.0|a0W6A000009GZdgUAG|PI SELIC RF SIMPL...|           |           |              |PI TESOURO SELIC ...|                    30.0|                         30.0|              |     Renda Fixa|               30.0|               |                 0.0|      0.04560643|       1.0|Efetivada|a0W6A000009GZdgUAG|\n",
      "|    17|$2b$10$.DCvvJ9WSD...|   25|          S|   Teresina|                   1.0|                   1.0|               2|      500.0|               |Por quanto tempo ...|NÃ£o tenho tempo ...|Quando pensa em i...|Multiplicar meu d...|Dos seus investim...|NÃ£o preciso|Agora imagine que...|Resgato parcialme...|Quais desses prod...| PoupanÃ§a|          |              |          |          |          |          |          |Quais desses prod...|          |          |          |          |          |          |          |          |Agora nos conte c...|          |                    |          |          |          |Quanto da sua ren...|Menor ou igual a ...|Tem alguma formaÃ...|NÃ£o tenho|       3.0|           3.0|                    1.0|a0W6A000009GZdgUAG|PI SELIC RF SIMPL...|           |           |              |PI TESOURO SELIC ...|                    30.0|                         30.0|              |     Renda Fixa|              290.0|               |                 0.0|      0.04560643|       1.0|Efetivada|a0W6A000009GZdgUAG|\n",
      "|    18|$2b$10$.DCvvJ9WSD...|   25|          S|   Teresina|                   1.0|                   1.0|               2|      500.0|               |Por quanto tempo ...|NÃ£o tenho tempo ...|Quando pensa em i...|Multiplicar meu d...|Dos seus investim...|NÃ£o preciso|Agora imagine que...|Resgato parcialme...|Quais desses prod...| PoupanÃ§a|          |              |          |          |          |          |          |Quais desses prod...|          |          |          |          |          |          |          |          |Agora nos conte c...|          |                    |          |          |          |Quanto da sua ren...|Menor ou igual a ...|Tem alguma formaÃ...|NÃ£o tenho|       3.0|           3.0|                    1.0|a0W6A000009GZdgUAG|PI SELIC RF SIMPL...|           |           |              |PI TESOURO SELIC ...|                    30.0|                         30.0|              |     Renda Fixa|               90.0|               |                 0.0|      0.18245012|       1.0|Efetivada|a0W6A000009GZdgUAG|\n",
      "|    19|$2b$10$.DCvvJ9WSD...|   25|          S|   Teresina|                   1.0|                   1.0|               2|      500.0|               |Por quanto tempo ...|NÃ£o tenho tempo ...|Quando pensa em i...|Multiplicar meu d...|Dos seus investim...|NÃ£o preciso|Agora imagine que...|Resgato parcialme...|Quais desses prod...| PoupanÃ§a|          |              |          |          |          |          |          |Quais desses prod...|          |          |          |          |          |          |          |          |Agora nos conte c...|          |                    |          |          |          |Quanto da sua ren...|Menor ou igual a ...|Tem alguma formaÃ...|NÃ£o tenho|       3.0|           3.0|                    1.0|a0W6A000009IJjgUAG|SAM RENDA FIXA LO...|           |           |              |SAM RENDA FIXA LO...|                    30.0|                         30.0|              |     Renda Fixa|               30.0|               |            6.775836|      0.03358966|       3.0|Efetivada|a0W6A000009IJjgUAG|\n",
      "+------+--------------------+-----+-----------+-----------+----------------------+----------------------+----------------+-----------+---------------+--------------------+--------------------+--------------------+--------------------+--------------------+------------+--------------------+--------------------+--------------------+----------+----------+--------------+----------+----------+----------+----------+----------+--------------------+----------+----------+----------+----------+----------+----------+----------+----------+--------------------+----------+--------------------+----------+----------+----------+--------------------+--------------------+--------------------+----------+----------+--------------+-----------------------+------------------+--------------------+-----------+-----------+--------------+--------------------+------------------------+-----------------------------+--------------+---------------+-------------------+---------------+--------------------+----------------+----------+---------+------------------+\n",
      "only showing top 20 rows\n",
      "\n"
     ]
    }
   ],
   "source": [
    "df.show()"
   ]
  },
  {
   "cell_type": "code",
   "execution_count": 20,
   "metadata": {},
   "outputs": [],
   "source": [
    "df_pandas = df.select(\"*\").toPandas()"
   ]
  },
  {
   "cell_type": "code",
   "execution_count": 23,
   "metadata": {},
   "outputs": [
    {
     "name": "stdout",
     "output_type": "stream",
     "text": [
      "<class 'pandas.core.frame.DataFrame'>\n",
      "RangeIndex: 38102 entries, 0 to 38101\n",
      "Data columns (total 66 columns):\n",
      " #   Column                         Non-Null Count  Dtype  \n",
      "---  ------                         --------------  -----  \n",
      " 0   dataId                         38102 non-null  int64  \n",
      " 1   ClienteId                      38102 non-null  object \n",
      " 2   Idade                          38102 non-null  int64  \n",
      " 3   EstadoCivil                    38102 non-null  object \n",
      " 4   BillingCity                    38102 non-null  object \n",
      " 5   NivelConhecimentoAtual         38102 non-null  object \n",
      " 6   ScoreNivelConhecimento         38102 non-null  object \n",
      " 7   PerfilInvestidor               38102 non-null  int64  \n",
      " 8   RendaMensal                    38102 non-null  float64\n",
      " 9   ValorPatrimonio                38102 non-null  object \n",
      " 10  Pergunta1                      38102 non-null  object \n",
      " 11  Resposta11                     38102 non-null  object \n",
      " 12  Pergunta2                      38102 non-null  object \n",
      " 13  Resposta21                     38102 non-null  object \n",
      " 14  Pergunta3                      38102 non-null  object \n",
      " 15  Resposta31                     38102 non-null  object \n",
      " 16  Pergunta4                      38102 non-null  object \n",
      " 17  Resposta41                     38102 non-null  object \n",
      " 18  Pergunta5                      38102 non-null  object \n",
      " 19  Resposta51                     38102 non-null  object \n",
      " 20  Resposta52                     38102 non-null  object \n",
      " 21  Resposta53                     38102 non-null  object \n",
      " 22  Resposta54                     38102 non-null  object \n",
      " 23  Resposta55                     38102 non-null  object \n",
      " 24  Resposta56                     38102 non-null  object \n",
      " 25  Resposta57                     38102 non-null  object \n",
      " 26  Resposta58                     38102 non-null  object \n",
      " 27  Pergunta6                      38102 non-null  object \n",
      " 28  Resposta61                     38102 non-null  object \n",
      " 29  Resposta62                     38102 non-null  object \n",
      " 30  Resposta63                     38102 non-null  object \n",
      " 31  Resposta64                     38102 non-null  object \n",
      " 32  Resposta65                     38102 non-null  object \n",
      " 33  Resposta66                     38102 non-null  object \n",
      " 34  Resposta67                     38102 non-null  object \n",
      " 35  Resposta68                     38102 non-null  object \n",
      " 36  Pergunta7                      38102 non-null  object \n",
      " 37  Resposta71                     38102 non-null  object \n",
      " 38  Resposta72                     38102 non-null  object \n",
      " 39  Resposta73                     38102 non-null  object \n",
      " 40  Resposta74                     38102 non-null  object \n",
      " 41  Resposta75                     38102 non-null  object \n",
      " 42  Pergunta8                      38102 non-null  object \n",
      " 43  Resposta81                     38102 non-null  object \n",
      " 44  Pergunta9                      38102 non-null  object \n",
      " 45  Resposta91                     38102 non-null  object \n",
      " 46  ScoreRisco                     38102 non-null  object \n",
      " 47  ScoreObjetivos                 38102 non-null  object \n",
      " 48  ScoreSituacaoFinanceira        38102 non-null  object \n",
      " 49  Produto                        38102 non-null  object \n",
      " 50  NomeDoProduto                  38102 non-null  object \n",
      " 51  NomeEmissor                    38102 non-null  object \n",
      " 52  TaxaCliente                    38102 non-null  object \n",
      " 53  TaxaPreCliente                 38102 non-null  object \n",
      " 54  DescricaoProduto               38102 non-null  object \n",
      " 55  ValorMinimoAplicaInicial       38102 non-null  object \n",
      " 56  ValorMinimoAplicacaoAdicional  38102 non-null  object \n",
      " 57  DataVencimento                 38102 non-null  object \n",
      " 58  FamiliaCarteira                38102 non-null  object \n",
      " 59  ValorInvestidoAtual            38102 non-null  object \n",
      " 60  ValorRendimento                38102 non-null  object \n",
      " 61  Rentabilidade12Meses           38102 non-null  object \n",
      " 62  RentabilidadeMes               38102 non-null  object \n",
      " 63  RiscoAtivo                     38102 non-null  object \n",
      " 64  Status                         38102 non-null  object \n",
      " 65  ProdutoId                      38102 non-null  object \n",
      "dtypes: float64(1), int64(3), object(62)\n",
      "memory usage: 19.2+ MB\n"
     ]
    }
   ],
   "source": [
    "df_pandas.info()"
   ]
  }
 ],
 "metadata": {
  "kernelspec": {
   "display_name": "Python 3",
   "language": "python",
   "name": "python3"
  },
  "language_info": {
   "codemirror_mode": {
    "name": "ipython",
    "version": 3
   },
   "file_extension": ".py",
   "mimetype": "text/x-python",
   "name": "python",
   "nbconvert_exporter": "python",
   "pygments_lexer": "ipython3",
   "version": "3.7.6"
  }
 },
 "nbformat": 4,
 "nbformat_minor": 4
}
