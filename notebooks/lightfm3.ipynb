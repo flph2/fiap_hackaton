{
 "cells": [
  {
   "cell_type": "code",
   "execution_count": 648,
   "metadata": {},
   "outputs": [],
   "source": [
    "%matplotlib inline\n",
    "\n",
    "import sys\n",
    "import pandas as pd\n",
    "import numpy as np\n",
    "import matplotlib.pyplot as plt\n",
    "from sqlalchemy import create_engine\n",
    "import pymysql\n",
    "import scipy.sparse as sps\n",
    "\n",
    "from lightfm.data import Dataset\n",
    "from lightfm import LightFM\n",
    "from lightfm.evaluation import auc_score\n",
    "from lightfm.cross_validation import random_train_test_split"
   ]
  },
  {
   "cell_type": "code",
   "execution_count": 649,
   "metadata": {},
   "outputs": [],
   "source": [
    "db_connection_str = 'mysql+pymysql://root:123@db/invest'\n",
    "db_connection = create_engine(db_connection_str)\n",
    "\n",
    "df_clientes = pd.read_sql('SELECT * FROM cli_Clientes', con=db_connection)\n",
    "df_cliente_produto = pd.read_sql('SELECT * FROM cli_Produtos', con=db_connection)\n",
    "df_produtos = pd.read_sql('SELECT * FROM Produtos', con=db_connection)"
   ]
  },
  {
   "cell_type": "code",
   "execution_count": 650,
   "metadata": {
    "scrolled": false
   },
   "outputs": [
    {
     "data": {
      "text/html": [
       "<div>\n",
       "<style scoped>\n",
       "    .dataframe tbody tr th:only-of-type {\n",
       "        vertical-align: middle;\n",
       "    }\n",
       "\n",
       "    .dataframe tbody tr th {\n",
       "        vertical-align: top;\n",
       "    }\n",
       "\n",
       "    .dataframe thead th {\n",
       "        text-align: right;\n",
       "    }\n",
       "</style>\n",
       "<table border=\"1\" class=\"dataframe\">\n",
       "  <thead>\n",
       "    <tr style=\"text-align: right;\">\n",
       "      <th></th>\n",
       "      <th>userid</th>\n",
       "      <th>produtoid</th>\n",
       "      <th>valorrendimento</th>\n",
       "      <th>dataefetivacao</th>\n",
       "    </tr>\n",
       "  </thead>\n",
       "  <tbody>\n",
       "    <tr>\n",
       "      <th>884</th>\n",
       "      <td>475</td>\n",
       "      <td>5972</td>\n",
       "      <td>NaN</td>\n",
       "      <td>2019-08-07</td>\n",
       "    </tr>\n",
       "    <tr>\n",
       "      <th>4909</th>\n",
       "      <td>1370</td>\n",
       "      <td>5386</td>\n",
       "      <td>NaN</td>\n",
       "      <td>2019-11-29</td>\n",
       "    </tr>\n",
       "  </tbody>\n",
       "</table>\n",
       "</div>"
      ],
      "text/plain": [
       "      userid  produtoid  valorrendimento dataefetivacao\n",
       "884      475       5972              NaN     2019-08-07\n",
       "4909    1370       5386              NaN     2019-11-29"
      ]
     },
     "execution_count": 650,
     "metadata": {},
     "output_type": "execute_result"
    }
   ],
   "source": [
    "df_cliente_produto.sample(2)"
   ]
  },
  {
   "cell_type": "code",
   "execution_count": 651,
   "metadata": {},
   "outputs": [],
   "source": [
    "# removendo linhas com userid = 0 -> esses são os produtos que nenhum cliente comprou ainda\n",
    "\n",
    "df_cliente_produto = df_cliente_produto[df_cliente_produto['userid'] > 0]"
   ]
  },
  {
   "cell_type": "code",
   "execution_count": 652,
   "metadata": {
    "scrolled": true
   },
   "outputs": [
    {
     "name": "stdout",
     "output_type": "stream",
     "text": [
      "<class 'pandas.core.frame.DataFrame'>\n",
      "Int64Index: 48333 entries, 0 to 48332\n",
      "Data columns (total 4 columns):\n",
      " #   Column           Non-Null Count  Dtype  \n",
      "---  ------           --------------  -----  \n",
      " 0   userid           48333 non-null  int64  \n",
      " 1   produtoid        48333 non-null  int64  \n",
      " 2   valorrendimento  7216 non-null   float64\n",
      " 3   dataefetivacao   48272 non-null  object \n",
      "dtypes: float64(1), int64(2), object(1)\n",
      "memory usage: 1.8+ MB\n"
     ]
    }
   ],
   "source": [
    "df_cliente_produto.info()"
   ]
  },
  {
   "cell_type": "code",
   "execution_count": 653,
   "metadata": {},
   "outputs": [
    {
     "data": {
      "text/plain": [
       "<matplotlib.axes._subplots.AxesSubplot at 0x7ff99589ea90>"
      ]
     },
     "execution_count": 653,
     "metadata": {},
     "output_type": "execute_result"
    },
    {
     "data": {
      "image/png": "[encoded data removed]",
      "text/plain": [
       "<Figure size 432x288 with 1 Axes>"
      ]
     },
     "metadata": {
      "needs_background": "light"
     },
     "output_type": "display_data"
    }
   ],
   "source": [
    "df_cliente_produto['produtoid'].hist(bins = 100)"
   ]
  },
  {
   "cell_type": "code",
   "execution_count": 654,
   "metadata": {
    "scrolled": true
   },
   "outputs": [
    {
     "data": {
      "text/plain": [
       "5972    15397\n",
       "6085     4470\n",
       "5386     3011\n",
       "6082     2001\n",
       "6138     1331\n",
       "        ...  \n",
       "6106        1\n",
       "6170        1\n",
       "134         1\n",
       "6266        1\n",
       "5909        1\n",
       "Name: produtoid, Length: 900, dtype: int64"
      ]
     },
     "execution_count": 654,
     "metadata": {},
     "output_type": "execute_result"
    }
   ],
   "source": [
    "# analisando os produtos mais populares\n",
    "df_cliente_produto['produtoid'].value_counts()"
   ]
  },
  {
   "cell_type": "code",
   "execution_count": 655,
   "metadata": {},
   "outputs": [
    {
     "data": {
      "text/html": [
       "<div>\n",
       "<style scoped>\n",
       "    .dataframe tbody tr th:only-of-type {\n",
       "        vertical-align: middle;\n",
       "    }\n",
       "\n",
       "    .dataframe tbody tr th {\n",
       "        vertical-align: top;\n",
       "    }\n",
       "\n",
       "    .dataframe thead th {\n",
       "        text-align: right;\n",
       "    }\n",
       "</style>\n",
       "<table border=\"1\" class=\"dataframe\">\n",
       "  <thead>\n",
       "    <tr style=\"text-align: right;\">\n",
       "      <th></th>\n",
       "      <th>dataId</th>\n",
       "      <th>AdministradorFundo</th>\n",
       "      <th>AtivoDisponivel</th>\n",
       "      <th>Carencia</th>\n",
       "      <th>CarteiraCNPJ</th>\n",
       "      <th>CNPJAdministrador</th>\n",
       "      <th>DataDeVencimento</th>\n",
       "      <th>DescontoIR</th>\n",
       "      <th>DescricaoAtivo</th>\n",
       "      <th>DescricaoCarencia</th>\n",
       "      <th>...</th>\n",
       "      <th>TipoCarteira</th>\n",
       "      <th>TipoCota</th>\n",
       "      <th>TipoIndexador</th>\n",
       "      <th>TipoRegimeCondomonioCVM</th>\n",
       "      <th>Tributacao</th>\n",
       "      <th>ValorMinimoAplicacaoAdicional</th>\n",
       "      <th>ValorMinimoAplicaInicial</th>\n",
       "      <th>ValorMinimoResgate</th>\n",
       "      <th>ValorMinimo</th>\n",
       "      <th>Vencimento</th>\n",
       "    </tr>\n",
       "  </thead>\n",
       "  <tbody>\n",
       "    <tr>\n",
       "      <th>5972</th>\n",
       "      <td>5972</td>\n",
       "      <td>SANTANDER SECURITIES SERVICES BRASIL DTVM S.A.</td>\n",
       "      <td>1</td>\n",
       "      <td>None</td>\n",
       "      <td>30.353.590/0001-05</td>\n",
       "      <td>03.502.968/0001-04</td>\n",
       "      <td>None</td>\n",
       "      <td>22.5</td>\n",
       "      <td>O FUNDO tem por objetivo investir em ativos fi...</td>\n",
       "      <td>Qualquer dia</td>\n",
       "      <td>...</td>\n",
       "      <td>Fundo de Renda Fixa</td>\n",
       "      <td>Abertura</td>\n",
       "      <td>None</td>\n",
       "      <td>Aberto</td>\n",
       "      <td>Longo prazo</td>\n",
       "      <td>30.0</td>\n",
       "      <td>30.0</td>\n",
       "      <td>30.0</td>\n",
       "      <td>NaN</td>\n",
       "      <td>None</td>\n",
       "    </tr>\n",
       "  </tbody>\n",
       "</table>\n",
       "<p>1 rows × 86 columns</p>\n",
       "</div>"
      ],
      "text/plain": [
       "      dataId                              AdministradorFundo  AtivoDisponivel  \\\n",
       "5972    5972  SANTANDER SECURITIES SERVICES BRASIL DTVM S.A.                1   \n",
       "\n",
       "     Carencia        CarteiraCNPJ   CNPJAdministrador DataDeVencimento  \\\n",
       "5972     None  30.353.590/0001-05  03.502.968/0001-04             None   \n",
       "\n",
       "      DescontoIR                                     DescricaoAtivo  \\\n",
       "5972        22.5  O FUNDO tem por objetivo investir em ativos fi...   \n",
       "\n",
       "     DescricaoCarencia  ...         TipoCarteira  TipoCota TipoIndexador  \\\n",
       "5972      Qualquer dia  ...  Fundo de Renda Fixa  Abertura          None   \n",
       "\n",
       "     TipoRegimeCondomonioCVM   Tributacao ValorMinimoAplicacaoAdicional  \\\n",
       "5972                  Aberto  Longo prazo                          30.0   \n",
       "\n",
       "     ValorMinimoAplicaInicial ValorMinimoResgate ValorMinimo Vencimento  \n",
       "5972                     30.0               30.0         NaN       None  \n",
       "\n",
       "[1 rows x 86 columns]"
      ]
     },
     "execution_count": 655,
     "metadata": {},
     "output_type": "execute_result"
    }
   ],
   "source": [
    "# o produto mais popular\n",
    "df_produtos[df_produtos['dataId'] == 5972]"
   ]
  },
  {
   "cell_type": "code",
   "execution_count": 656,
   "metadata": {
    "scrolled": true
   },
   "outputs": [
    {
     "data": {
      "text/plain": [
       "1369     36\n",
       "736      27\n",
       "462      22\n",
       "566      21\n",
       "2353     20\n",
       "         ..\n",
       "1076      1\n",
       "11321     1\n",
       "3133      1\n",
       "1092      1\n",
       "2049      1\n",
       "Name: userid, Length: 6927, dtype: int64"
      ]
     },
     "execution_count": 656,
     "metadata": {},
     "output_type": "execute_result"
    }
   ],
   "source": [
    "# vendo os clientes que compraram mais vezes o produto mais popular\n",
    "df_cliente_produto[df_cliente_produto['produtoid'] == 5972]['userid'].value_counts()"
   ]
  },
  {
   "cell_type": "code",
   "execution_count": 657,
   "metadata": {},
   "outputs": [],
   "source": [
    "# removendo os relacionamentos duplicados (clientes que compraram o mesmo produto mais de uma vez)\n",
    "df_cliente_produto = df_cliente_produto[['userid','produtoid']].drop_duplicates()"
   ]
  },
  {
   "cell_type": "code",
   "execution_count": 658,
   "metadata": {},
   "outputs": [
    {
     "name": "stdout",
     "output_type": "stream",
     "text": [
      "<class 'pandas.core.frame.DataFrame'>\n",
      "Int64Index: 30061 entries, 0 to 48332\n",
      "Data columns (total 2 columns):\n",
      " #   Column     Non-Null Count  Dtype\n",
      "---  ------     --------------  -----\n",
      " 0   userid     30061 non-null  int64\n",
      " 1   produtoid  30061 non-null  int64\n",
      "dtypes: int64(2)\n",
      "memory usage: 704.6 KB\n"
     ]
    }
   ],
   "source": [
    "df_cliente_produto.info()"
   ]
  },
  {
   "cell_type": "code",
   "execution_count": 659,
   "metadata": {
    "scrolled": false
   },
   "outputs": [
    {
     "data": {
      "text/plain": [
       "<matplotlib.axes._subplots.AxesSubplot at 0x7ff995c77b10>"
      ]
     },
     "execution_count": 659,
     "metadata": {},
     "output_type": "execute_result"
    },
    {
     "data": {
      "image/png": "[encoded data removed]",
      "text/plain": [
       "<Figure size 432x288 with 1 Axes>"
      ]
     },
     "metadata": {
      "needs_background": "light"
     },
     "output_type": "display_data"
    }
   ],
   "source": [
    "df_cliente_produto['produtoid'].hist(bins = 100)"
   ]
  },
  {
   "cell_type": "code",
   "execution_count": 660,
   "metadata": {
    "scrolled": false
   },
   "outputs": [
    {
     "data": {
      "text/html": [
       "<div>\n",
       "<style scoped>\n",
       "    .dataframe tbody tr th:only-of-type {\n",
       "        vertical-align: middle;\n",
       "    }\n",
       "\n",
       "    .dataframe tbody tr th {\n",
       "        vertical-align: top;\n",
       "    }\n",
       "\n",
       "    .dataframe thead th {\n",
       "        text-align: right;\n",
       "    }\n",
       "</style>\n",
       "<table border=\"1\" class=\"dataframe\">\n",
       "  <thead>\n",
       "    <tr style=\"text-align: right;\">\n",
       "      <th></th>\n",
       "      <th>userid</th>\n",
       "      <th>userid_aux</th>\n",
       "      <th>idade</th>\n",
       "      <th>genero</th>\n",
       "      <th>estadocivil</th>\n",
       "      <th>billingcity</th>\n",
       "      <th>profissaopessoa</th>\n",
       "      <th>patrimonioautomoveis</th>\n",
       "      <th>patrimonioimoveis</th>\n",
       "      <th>patrimonioinvestimentos</th>\n",
       "      <th>...</th>\n",
       "      <th>nivelconhecimentoatual</th>\n",
       "      <th>scorenivelconhecimento</th>\n",
       "      <th>perfilinvestidor</th>\n",
       "      <th>rendamensal</th>\n",
       "      <th>valorpatrimonio</th>\n",
       "      <th>scorerisco</th>\n",
       "      <th>scoreobjetivos</th>\n",
       "      <th>scoresituacaofinanceira</th>\n",
       "      <th>createddate</th>\n",
       "      <th>dataclienteefetivado</th>\n",
       "    </tr>\n",
       "  </thead>\n",
       "  <tbody>\n",
       "    <tr>\n",
       "      <th>482</th>\n",
       "      <td>483</td>\n",
       "      <td>$2b$10$.DCvvJ9WSDpqVP2xXjeSPePVXi6qOZ9ET3KI2oK...</td>\n",
       "      <td>52.5</td>\n",
       "      <td>M</td>\n",
       "      <td>C</td>\n",
       "      <td>Curitiba</td>\n",
       "      <td>Administrador</td>\n",
       "      <td>0.0</td>\n",
       "      <td>0.0</td>\n",
       "      <td>0.0</td>\n",
       "      <td>...</td>\n",
       "      <td>5.0</td>\n",
       "      <td>5.0</td>\n",
       "      <td>4</td>\n",
       "      <td>10000.0</td>\n",
       "      <td>700000.0</td>\n",
       "      <td>4.0</td>\n",
       "      <td>4.0</td>\n",
       "      <td>2.0</td>\n",
       "      <td>2019-06-22 11:20:19</td>\n",
       "      <td>2019-06-22 12:00:00</td>\n",
       "    </tr>\n",
       "    <tr>\n",
       "      <th>2640</th>\n",
       "      <td>2641</td>\n",
       "      <td>$2b$10$.DCvvJ9WSDpqVP2xXjeSPeYsjuUtvxCPXgbEtiV...</td>\n",
       "      <td>24.8</td>\n",
       "      <td>M</td>\n",
       "      <td>C</td>\n",
       "      <td>Belo Horizonte</td>\n",
       "      <td>Autônomo</td>\n",
       "      <td>0.0</td>\n",
       "      <td>0.0</td>\n",
       "      <td>0.0</td>\n",
       "      <td>...</td>\n",
       "      <td>1.0</td>\n",
       "      <td>1.0</td>\n",
       "      <td>2</td>\n",
       "      <td>1300.0</td>\n",
       "      <td>NaN</td>\n",
       "      <td>2.0</td>\n",
       "      <td>3.0</td>\n",
       "      <td>1.0</td>\n",
       "      <td>2019-08-29 08:07:38</td>\n",
       "      <td>2019-08-29 12:00:00</td>\n",
       "    </tr>\n",
       "  </tbody>\n",
       "</table>\n",
       "<p>2 rows × 21 columns</p>\n",
       "</div>"
      ],
      "text/plain": [
       "      userid                                         userid_aux  idade genero  \\\n",
       "482      483  $2b$10$.DCvvJ9WSDpqVP2xXjeSPePVXi6qOZ9ET3KI2oK...   52.5      M   \n",
       "2640    2641  $2b$10$.DCvvJ9WSDpqVP2xXjeSPeYsjuUtvxCPXgbEtiV...   24.8      M   \n",
       "\n",
       "     estadocivil     billingcity profissaopessoa  patrimonioautomoveis  \\\n",
       "482            C        Curitiba   Administrador                   0.0   \n",
       "2640           C  Belo Horizonte        Autônomo                   0.0   \n",
       "\n",
       "      patrimonioimoveis  patrimonioinvestimentos  ...  nivelconhecimentoatual  \\\n",
       "482                 0.0                      0.0  ...                     5.0   \n",
       "2640                0.0                      0.0  ...                     1.0   \n",
       "\n",
       "      scorenivelconhecimento  perfilinvestidor  rendamensal  valorpatrimonio  \\\n",
       "482                      5.0                 4      10000.0         700000.0   \n",
       "2640                     1.0                 2       1300.0              NaN   \n",
       "\n",
       "      scorerisco  scoreobjetivos  scoresituacaofinanceira  \\\n",
       "482          4.0             4.0                      2.0   \n",
       "2640         2.0             3.0                      1.0   \n",
       "\n",
       "              createddate dataclienteefetivado  \n",
       "482   2019-06-22 11:20:19  2019-06-22 12:00:00  \n",
       "2640  2019-08-29 08:07:38  2019-08-29 12:00:00  \n",
       "\n",
       "[2 rows x 21 columns]"
      ]
     },
     "execution_count": 660,
     "metadata": {},
     "output_type": "execute_result"
    }
   ],
   "source": [
    "df_clientes.sample(2)"
   ]
  },
  {
   "cell_type": "code",
   "execution_count": 661,
   "metadata": {
    "scrolled": true
   },
   "outputs": [
    {
     "data": {
      "text/html": [
       "<div>\n",
       "<style scoped>\n",
       "    .dataframe tbody tr th:only-of-type {\n",
       "        vertical-align: middle;\n",
       "    }\n",
       "\n",
       "    .dataframe tbody tr th {\n",
       "        vertical-align: top;\n",
       "    }\n",
       "\n",
       "    .dataframe thead th {\n",
       "        text-align: right;\n",
       "    }\n",
       "</style>\n",
       "<table border=\"1\" class=\"dataframe\">\n",
       "  <thead>\n",
       "    <tr style=\"text-align: right;\">\n",
       "      <th></th>\n",
       "      <th>userid</th>\n",
       "      <th>idade</th>\n",
       "      <th>patrimonioautomoveis</th>\n",
       "      <th>patrimonioimoveis</th>\n",
       "      <th>patrimonioinvestimentos</th>\n",
       "      <th>patrimoniooutros</th>\n",
       "      <th>nivelconhecimentoatual</th>\n",
       "      <th>scorenivelconhecimento</th>\n",
       "      <th>perfilinvestidor</th>\n",
       "      <th>rendamensal</th>\n",
       "      <th>valorpatrimonio</th>\n",
       "      <th>scorerisco</th>\n",
       "      <th>scoreobjetivos</th>\n",
       "      <th>scoresituacaofinanceira</th>\n",
       "    </tr>\n",
       "  </thead>\n",
       "  <tbody>\n",
       "    <tr>\n",
       "      <th>count</th>\n",
       "      <td>14188.000000</td>\n",
       "      <td>14188.000000</td>\n",
       "      <td>13780.000000</td>\n",
       "      <td>13780.000000</td>\n",
       "      <td>13780.000000</td>\n",
       "      <td>13780.000000</td>\n",
       "      <td>13628.000000</td>\n",
       "      <td>14187.000000</td>\n",
       "      <td>14188.000000</td>\n",
       "      <td>1.418800e+04</td>\n",
       "      <td>9.498000e+03</td>\n",
       "      <td>14187.000000</td>\n",
       "      <td>14187.000000</td>\n",
       "      <td>14187.000000</td>\n",
       "    </tr>\n",
       "    <tr>\n",
       "      <th>mean</th>\n",
       "      <td>7094.500000</td>\n",
       "      <td>36.841303</td>\n",
       "      <td>2.819303</td>\n",
       "      <td>7.294630</td>\n",
       "      <td>8.126996</td>\n",
       "      <td>0.972424</td>\n",
       "      <td>2.453625</td>\n",
       "      <td>2.467893</td>\n",
       "      <td>2.760290</td>\n",
       "      <td>7.692467e+03</td>\n",
       "      <td>8.407910e+05</td>\n",
       "      <td>2.648411</td>\n",
       "      <td>3.065130</td>\n",
       "      <td>2.100092</td>\n",
       "    </tr>\n",
       "    <tr>\n",
       "      <th>std</th>\n",
       "      <td>4095.867145</td>\n",
       "      <td>11.037122</td>\n",
       "      <td>11.308762</td>\n",
       "      <td>20.933896</td>\n",
       "      <td>22.452113</td>\n",
       "      <td>6.901847</td>\n",
       "      <td>1.545563</td>\n",
       "      <td>1.548641</td>\n",
       "      <td>1.083585</td>\n",
       "      <td>2.425389e+04</td>\n",
       "      <td>1.567628e+07</td>\n",
       "      <td>1.105727</td>\n",
       "      <td>1.166216</td>\n",
       "      <td>1.036411</td>\n",
       "    </tr>\n",
       "    <tr>\n",
       "      <th>min</th>\n",
       "      <td>1.000000</td>\n",
       "      <td>18.100000</td>\n",
       "      <td>0.000000</td>\n",
       "      <td>0.000000</td>\n",
       "      <td>0.000000</td>\n",
       "      <td>0.000000</td>\n",
       "      <td>1.000000</td>\n",
       "      <td>1.000000</td>\n",
       "      <td>1.000000</td>\n",
       "      <td>0.000000e+00</td>\n",
       "      <td>0.000000e+00</td>\n",
       "      <td>1.000000</td>\n",
       "      <td>1.000000</td>\n",
       "      <td>1.000000</td>\n",
       "    </tr>\n",
       "    <tr>\n",
       "      <th>25%</th>\n",
       "      <td>3547.750000</td>\n",
       "      <td>28.700000</td>\n",
       "      <td>0.000000</td>\n",
       "      <td>0.000000</td>\n",
       "      <td>0.000000</td>\n",
       "      <td>0.000000</td>\n",
       "      <td>1.000000</td>\n",
       "      <td>1.000000</td>\n",
       "      <td>2.000000</td>\n",
       "      <td>1.830000e+03</td>\n",
       "      <td>3.000000e+04</td>\n",
       "      <td>2.000000</td>\n",
       "      <td>2.000000</td>\n",
       "      <td>1.000000</td>\n",
       "    </tr>\n",
       "    <tr>\n",
       "      <th>50%</th>\n",
       "      <td>7094.500000</td>\n",
       "      <td>35.300000</td>\n",
       "      <td>0.000000</td>\n",
       "      <td>0.000000</td>\n",
       "      <td>0.000000</td>\n",
       "      <td>0.000000</td>\n",
       "      <td>2.000000</td>\n",
       "      <td>2.000000</td>\n",
       "      <td>3.000000</td>\n",
       "      <td>4.000000e+03</td>\n",
       "      <td>1.900000e+05</td>\n",
       "      <td>2.000000</td>\n",
       "      <td>3.000000</td>\n",
       "      <td>2.000000</td>\n",
       "    </tr>\n",
       "    <tr>\n",
       "      <th>75%</th>\n",
       "      <td>10641.250000</td>\n",
       "      <td>42.800000</td>\n",
       "      <td>0.000000</td>\n",
       "      <td>0.000000</td>\n",
       "      <td>0.000000</td>\n",
       "      <td>0.000000</td>\n",
       "      <td>4.000000</td>\n",
       "      <td>4.000000</td>\n",
       "      <td>4.000000</td>\n",
       "      <td>9.000000e+03</td>\n",
       "      <td>6.000000e+05</td>\n",
       "      <td>3.000000</td>\n",
       "      <td>4.000000</td>\n",
       "      <td>3.000000</td>\n",
       "    </tr>\n",
       "    <tr>\n",
       "      <th>max</th>\n",
       "      <td>14188.000000</td>\n",
       "      <td>96.200000</td>\n",
       "      <td>100.000000</td>\n",
       "      <td>100.000000</td>\n",
       "      <td>100.000000</td>\n",
       "      <td>100.000000</td>\n",
       "      <td>5.000000</td>\n",
       "      <td>5.000000</td>\n",
       "      <td>5.000000</td>\n",
       "      <td>2.400000e+06</td>\n",
       "      <td>1.500000e+09</td>\n",
       "      <td>5.000000</td>\n",
       "      <td>5.000000</td>\n",
       "      <td>5.000000</td>\n",
       "    </tr>\n",
       "  </tbody>\n",
       "</table>\n",
       "</div>"
      ],
      "text/plain": [
       "             userid         idade  patrimonioautomoveis  patrimonioimoveis  \\\n",
       "count  14188.000000  14188.000000          13780.000000       13780.000000   \n",
       "mean    7094.500000     36.841303              2.819303           7.294630   \n",
       "std     4095.867145     11.037122             11.308762          20.933896   \n",
       "min        1.000000     18.100000              0.000000           0.000000   \n",
       "25%     3547.750000     28.700000              0.000000           0.000000   \n",
       "50%     7094.500000     35.300000              0.000000           0.000000   \n",
       "75%    10641.250000     42.800000              0.000000           0.000000   \n",
       "max    14188.000000     96.200000            100.000000         100.000000   \n",
       "\n",
       "       patrimonioinvestimentos  patrimoniooutros  nivelconhecimentoatual  \\\n",
       "count             13780.000000      13780.000000            13628.000000   \n",
       "mean                  8.126996          0.972424                2.453625   \n",
       "std                  22.452113          6.901847                1.545563   \n",
       "min                   0.000000          0.000000                1.000000   \n",
       "25%                   0.000000          0.000000                1.000000   \n",
       "50%                   0.000000          0.000000                2.000000   \n",
       "75%                   0.000000          0.000000                4.000000   \n",
       "max                 100.000000        100.000000                5.000000   \n",
       "\n",
       "       scorenivelconhecimento  perfilinvestidor   rendamensal  \\\n",
       "count            14187.000000      14188.000000  1.418800e+04   \n",
       "mean                 2.467893          2.760290  7.692467e+03   \n",
       "std                  1.548641          1.083585  2.425389e+04   \n",
       "min                  1.000000          1.000000  0.000000e+00   \n",
       "25%                  1.000000          2.000000  1.830000e+03   \n",
       "50%                  2.000000          3.000000  4.000000e+03   \n",
       "75%                  4.000000          4.000000  9.000000e+03   \n",
       "max                  5.000000          5.000000  2.400000e+06   \n",
       "\n",
       "       valorpatrimonio    scorerisco  scoreobjetivos  scoresituacaofinanceira  \n",
       "count     9.498000e+03  14187.000000    14187.000000             14187.000000  \n",
       "mean      8.407910e+05      2.648411        3.065130                 2.100092  \n",
       "std       1.567628e+07      1.105727        1.166216                 1.036411  \n",
       "min       0.000000e+00      1.000000        1.000000                 1.000000  \n",
       "25%       3.000000e+04      2.000000        2.000000                 1.000000  \n",
       "50%       1.900000e+05      2.000000        3.000000                 2.000000  \n",
       "75%       6.000000e+05      3.000000        4.000000                 3.000000  \n",
       "max       1.500000e+09      5.000000        5.000000                 5.000000  "
      ]
     },
     "execution_count": 661,
     "metadata": {},
     "output_type": "execute_result"
    }
   ],
   "source": [
    "df_clientes.describe()"
   ]
  },
  {
   "cell_type": "code",
   "execution_count": 662,
   "metadata": {
    "scrolled": true
   },
   "outputs": [
    {
     "data": {
      "text/plain": [
       "(array([2.300e+03, 3.872e+03, 4.011e+03, 2.154e+03, 1.050e+03, 5.170e+02,\n",
       "        2.110e+02, 5.700e+01, 1.300e+01, 3.000e+00]),\n",
       " array([18.1 , 25.91, 33.72, 41.53, 49.34, 57.15, 64.96, 72.77, 80.58,\n",
       "        88.39, 96.2 ]),\n",
       " <a list of 10 Patch objects>)"
      ]
     },
     "execution_count": 662,
     "metadata": {},
     "output_type": "execute_result"
    },
    {
     "data": {
      "image/png": "[encoded data removed]",
      "text/plain": [
       "<Figure size 432x288 with 1 Axes>"
      ]
     },
     "metadata": {
      "needs_background": "light"
     },
     "output_type": "display_data"
    }
   ],
   "source": [
    "plt.hist(df_clientes['idade'])"
   ]
  },
  {
   "cell_type": "code",
   "execution_count": 663,
   "metadata": {},
   "outputs": [],
   "source": [
    "df_clientes['idade'] = pd.cut(df_clientes['idade'], bins=[0,20,35,65,100], labels=[\"jovem\", \"jovemadulto\", \"adulto\", \"idoso\"])"
   ]
  },
  {
   "cell_type": "code",
   "execution_count": 664,
   "metadata": {},
   "outputs": [
    {
     "data": {
      "text/plain": [
       "(array([6704.,    0.,    0., 6963.,    0.,    0.,  240.,    0.,    0.,\n",
       "         281.]),\n",
       " array([0. , 0.3, 0.6, 0.9, 1.2, 1.5, 1.8, 2.1, 2.4, 2.7, 3. ]),\n",
       " <a list of 10 Patch objects>)"
      ]
     },
     "execution_count": 664,
     "metadata": {},
     "output_type": "execute_result"
    },
    {
     "data": {
      "image/png": "[encoded data removed]",
      "text/plain": [
       "<Figure size 432x288 with 1 Axes>"
      ]
     },
     "metadata": {
      "needs_background": "light"
     },
     "output_type": "display_data"
    }
   ],
   "source": [
    "plt.hist(df_clientes['idade'])"
   ]
  },
  {
   "cell_type": "code",
   "execution_count": 665,
   "metadata": {
    "scrolled": false
   },
   "outputs": [
    {
     "data": {
      "text/html": [
       "<div>\n",
       "<style scoped>\n",
       "    .dataframe tbody tr th:only-of-type {\n",
       "        vertical-align: middle;\n",
       "    }\n",
       "\n",
       "    .dataframe tbody tr th {\n",
       "        vertical-align: top;\n",
       "    }\n",
       "\n",
       "    .dataframe thead th {\n",
       "        text-align: right;\n",
       "    }\n",
       "</style>\n",
       "<table border=\"1\" class=\"dataframe\">\n",
       "  <thead>\n",
       "    <tr style=\"text-align: right;\">\n",
       "      <th></th>\n",
       "      <th>dataId</th>\n",
       "      <th>AdministradorFundo</th>\n",
       "      <th>AtivoDisponivel</th>\n",
       "      <th>Carencia</th>\n",
       "      <th>CarteiraCNPJ</th>\n",
       "      <th>CNPJAdministrador</th>\n",
       "      <th>DataDeVencimento</th>\n",
       "      <th>DescontoIR</th>\n",
       "      <th>DescricaoAtivo</th>\n",
       "      <th>DescricaoCarencia</th>\n",
       "      <th>...</th>\n",
       "      <th>TipoCarteira</th>\n",
       "      <th>TipoCota</th>\n",
       "      <th>TipoIndexador</th>\n",
       "      <th>TipoRegimeCondomonioCVM</th>\n",
       "      <th>Tributacao</th>\n",
       "      <th>ValorMinimoAplicacaoAdicional</th>\n",
       "      <th>ValorMinimoAplicaInicial</th>\n",
       "      <th>ValorMinimoResgate</th>\n",
       "      <th>ValorMinimo</th>\n",
       "      <th>Vencimento</th>\n",
       "    </tr>\n",
       "  </thead>\n",
       "  <tbody>\n",
       "    <tr>\n",
       "      <th>745</th>\n",
       "      <td>745</td>\n",
       "      <td>None</td>\n",
       "      <td>0</td>\n",
       "      <td>2020-07-24</td>\n",
       "      <td>None</td>\n",
       "      <td>None</td>\n",
       "      <td>2020-07-24</td>\n",
       "      <td>22.5</td>\n",
       "      <td>O Certificado de Depósito Bancário, de forma s...</td>\n",
       "      <td>No venc.</td>\n",
       "      <td>...</td>\n",
       "      <td>None</td>\n",
       "      <td>None</td>\n",
       "      <td>Pré fixado</td>\n",
       "      <td>None</td>\n",
       "      <td>None</td>\n",
       "      <td>NaN</td>\n",
       "      <td>NaN</td>\n",
       "      <td>NaN</td>\n",
       "      <td>1000.0</td>\n",
       "      <td>2020-07-24</td>\n",
       "    </tr>\n",
       "    <tr>\n",
       "      <th>7730</th>\n",
       "      <td>7730</td>\n",
       "      <td>Santander Securities Services Brtasil DTVM SA</td>\n",
       "      <td>1</td>\n",
       "      <td>None</td>\n",
       "      <td>14.237.118/0001-42</td>\n",
       "      <td>03.502.968/0001-04</td>\n",
       "      <td>None</td>\n",
       "      <td>22.5</td>\n",
       "      <td>O Fundo busca gerar retornos consistentes e su...</td>\n",
       "      <td>Qualquer dia</td>\n",
       "      <td>...</td>\n",
       "      <td>FIC de Fundo Multimercado</td>\n",
       "      <td>Fechamento</td>\n",
       "      <td>None</td>\n",
       "      <td>Aberto</td>\n",
       "      <td>Longo prazo</td>\n",
       "      <td>5000.0</td>\n",
       "      <td>5000.0</td>\n",
       "      <td>5000.0</td>\n",
       "      <td>NaN</td>\n",
       "      <td>None</td>\n",
       "    </tr>\n",
       "  </tbody>\n",
       "</table>\n",
       "<p>2 rows × 86 columns</p>\n",
       "</div>"
      ],
      "text/plain": [
       "      dataId                             AdministradorFundo  AtivoDisponivel  \\\n",
       "745      745                                           None                0   \n",
       "7730    7730  Santander Securities Services Brtasil DTVM SA                1   \n",
       "\n",
       "        Carencia        CarteiraCNPJ   CNPJAdministrador DataDeVencimento  \\\n",
       "745   2020-07-24                None                None       2020-07-24   \n",
       "7730        None  14.237.118/0001-42  03.502.968/0001-04             None   \n",
       "\n",
       "      DescontoIR                                     DescricaoAtivo  \\\n",
       "745         22.5  O Certificado de Depósito Bancário, de forma s...   \n",
       "7730        22.5  O Fundo busca gerar retornos consistentes e su...   \n",
       "\n",
       "     DescricaoCarencia  ...               TipoCarteira    TipoCota  \\\n",
       "745           No venc.  ...                       None        None   \n",
       "7730      Qualquer dia  ...  FIC de Fundo Multimercado  Fechamento   \n",
       "\n",
       "     TipoIndexador TipoRegimeCondomonioCVM   Tributacao  \\\n",
       "745     Pré fixado                    None         None   \n",
       "7730          None                  Aberto  Longo prazo   \n",
       "\n",
       "     ValorMinimoAplicacaoAdicional ValorMinimoAplicaInicial  \\\n",
       "745                            NaN                      NaN   \n",
       "7730                        5000.0                   5000.0   \n",
       "\n",
       "     ValorMinimoResgate ValorMinimo  Vencimento  \n",
       "745                 NaN      1000.0  2020-07-24  \n",
       "7730             5000.0         NaN        None  \n",
       "\n",
       "[2 rows x 86 columns]"
      ]
     },
     "execution_count": 665,
     "metadata": {},
     "output_type": "execute_result"
    }
   ],
   "source": [
    "df_produtos.sample(2)"
   ]
  },
  {
   "cell_type": "code",
   "execution_count": 672,
   "metadata": {
    "scrolled": true
   },
   "outputs": [
    {
     "name": "stdout",
     "output_type": "stream",
     "text": [
      "<class 'pandas.core.frame.DataFrame'>\n",
      "RangeIndex: 14188 entries, 0 to 14187\n",
      "Data columns (total 5 columns):\n",
      " #   Column                   Non-Null Count  Dtype   \n",
      "---  ------                   --------------  -----   \n",
      " 0   userid                   14188 non-null  int64   \n",
      " 1   idade                    14188 non-null  category\n",
      " 2   perfilinvestidor         14188 non-null  int64   \n",
      " 3   scoresituacaofinanceira  14187 non-null  float64 \n",
      " 4   scorenivelconhecimento   14187 non-null  float64 \n",
      "dtypes: category(1), float64(2), int64(2)\n",
      "memory usage: 457.5 KB\n"
     ]
    }
   ],
   "source": [
    "# selecionando as features do dataset de clientes a serem utilizadas\n",
    "df_clientes_features = df_clientes[['userid', 'idade', 'perfilinvestidor', 'scoresituacaofinanceira', 'scorenivelconhecimento']]\n",
    "df_clientes_features.info()"
   ]
  },
  {
   "cell_type": "code",
   "execution_count": 673,
   "metadata": {},
   "outputs": [
    {
     "name": "stdout",
     "output_type": "stream",
     "text": [
      "<class 'pandas.core.frame.DataFrame'>\n",
      "RangeIndex: 14188 entries, 0 to 14187\n",
      "Data columns (total 5 columns):\n",
      " #   Column                   Non-Null Count  Dtype   \n",
      "---  ------                   --------------  -----   \n",
      " 0   userid                   14188 non-null  int64   \n",
      " 1   idade                    14188 non-null  category\n",
      " 2   perfilinvestidor         14188 non-null  object  \n",
      " 3   scoresituacaofinanceira  14188 non-null  object  \n",
      " 4   scorenivelconhecimento   14188 non-null  object  \n",
      "dtypes: category(1), int64(1), object(3)\n",
      "memory usage: 457.5+ KB\n"
     ]
    }
   ],
   "source": [
    "df_clientes_features.loc[:, 'perfilinvestidor'] = 'perfil' + df_clientes_features['perfilinvestidor'].map(str)\n",
    "df_clientes_features.loc[:, 'scoresituacaofinanceira'] = 'scoresf' + df_clientes_features['scoresituacaofinanceira'].map(str)\n",
    "df_clientes_features.loc[:, 'scorenivelconhecimento'] = 'scorenc' + df_clientes_features['scorenivelconhecimento'].map(str)\n",
    "df_clientes_features.info()"
   ]
  },
  {
   "cell_type": "code",
   "execution_count": 674,
   "metadata": {
    "scrolled": false
   },
   "outputs": [
    {
     "data": {
      "text/html": [
       "<div>\n",
       "<style scoped>\n",
       "    .dataframe tbody tr th:only-of-type {\n",
       "        vertical-align: middle;\n",
       "    }\n",
       "\n",
       "    .dataframe tbody tr th {\n",
       "        vertical-align: top;\n",
       "    }\n",
       "\n",
       "    .dataframe thead th {\n",
       "        text-align: right;\n",
       "    }\n",
       "</style>\n",
       "<table border=\"1\" class=\"dataframe\">\n",
       "  <thead>\n",
       "    <tr style=\"text-align: right;\">\n",
       "      <th></th>\n",
       "      <th>userid</th>\n",
       "      <th>idade</th>\n",
       "      <th>perfilinvestidor</th>\n",
       "      <th>scoresituacaofinanceira</th>\n",
       "      <th>scorenivelconhecimento</th>\n",
       "    </tr>\n",
       "  </thead>\n",
       "  <tbody>\n",
       "    <tr>\n",
       "      <th>0</th>\n",
       "      <td>1</td>\n",
       "      <td>jovemadulto</td>\n",
       "      <td>perfil4</td>\n",
       "      <td>scoresf4.0</td>\n",
       "      <td>scorenc2.0</td>\n",
       "    </tr>\n",
       "    <tr>\n",
       "      <th>1</th>\n",
       "      <td>2</td>\n",
       "      <td>jovemadulto</td>\n",
       "      <td>perfil2</td>\n",
       "      <td>scoresf2.0</td>\n",
       "      <td>scorenc1.0</td>\n",
       "    </tr>\n",
       "    <tr>\n",
       "      <th>2</th>\n",
       "      <td>3</td>\n",
       "      <td>adulto</td>\n",
       "      <td>perfil1</td>\n",
       "      <td>scoresf1.0</td>\n",
       "      <td>scorenc2.0</td>\n",
       "    </tr>\n",
       "    <tr>\n",
       "      <th>3</th>\n",
       "      <td>4</td>\n",
       "      <td>adulto</td>\n",
       "      <td>perfil3</td>\n",
       "      <td>scoresf2.0</td>\n",
       "      <td>scorenc4.0</td>\n",
       "    </tr>\n",
       "    <tr>\n",
       "      <th>4</th>\n",
       "      <td>5</td>\n",
       "      <td>jovemadulto</td>\n",
       "      <td>perfil2</td>\n",
       "      <td>scoresf2.0</td>\n",
       "      <td>scorenc1.0</td>\n",
       "    </tr>\n",
       "    <tr>\n",
       "      <th>...</th>\n",
       "      <td>...</td>\n",
       "      <td>...</td>\n",
       "      <td>...</td>\n",
       "      <td>...</td>\n",
       "      <td>...</td>\n",
       "    </tr>\n",
       "    <tr>\n",
       "      <th>14183</th>\n",
       "      <td>14184</td>\n",
       "      <td>jovemadulto</td>\n",
       "      <td>perfil2</td>\n",
       "      <td>scoresf4.0</td>\n",
       "      <td>scorenc2.0</td>\n",
       "    </tr>\n",
       "    <tr>\n",
       "      <th>14184</th>\n",
       "      <td>14185</td>\n",
       "      <td>jovemadulto</td>\n",
       "      <td>perfil2</td>\n",
       "      <td>scoresf3.0</td>\n",
       "      <td>scorenc1.0</td>\n",
       "    </tr>\n",
       "    <tr>\n",
       "      <th>14185</th>\n",
       "      <td>14186</td>\n",
       "      <td>adulto</td>\n",
       "      <td>perfil2</td>\n",
       "      <td>scoresf1.0</td>\n",
       "      <td>scorenc1.0</td>\n",
       "    </tr>\n",
       "    <tr>\n",
       "      <th>14186</th>\n",
       "      <td>14187</td>\n",
       "      <td>jovemadulto</td>\n",
       "      <td>perfil2</td>\n",
       "      <td>scoresf2.0</td>\n",
       "      <td>scorenc3.0</td>\n",
       "    </tr>\n",
       "    <tr>\n",
       "      <th>14187</th>\n",
       "      <td>14188</td>\n",
       "      <td>adulto</td>\n",
       "      <td>perfil2</td>\n",
       "      <td>scoresf1.0</td>\n",
       "      <td>scorenc1.0</td>\n",
       "    </tr>\n",
       "  </tbody>\n",
       "</table>\n",
       "<p>14188 rows × 5 columns</p>\n",
       "</div>"
      ],
      "text/plain": [
       "       userid        idade perfilinvestidor scoresituacaofinanceira  \\\n",
       "0           1  jovemadulto          perfil4              scoresf4.0   \n",
       "1           2  jovemadulto          perfil2              scoresf2.0   \n",
       "2           3       adulto          perfil1              scoresf1.0   \n",
       "3           4       adulto          perfil3              scoresf2.0   \n",
       "4           5  jovemadulto          perfil2              scoresf2.0   \n",
       "...       ...          ...              ...                     ...   \n",
       "14183   14184  jovemadulto          perfil2              scoresf4.0   \n",
       "14184   14185  jovemadulto          perfil2              scoresf3.0   \n",
       "14185   14186       adulto          perfil2              scoresf1.0   \n",
       "14186   14187  jovemadulto          perfil2              scoresf2.0   \n",
       "14187   14188       adulto          perfil2              scoresf1.0   \n",
       "\n",
       "      scorenivelconhecimento  \n",
       "0                 scorenc2.0  \n",
       "1                 scorenc1.0  \n",
       "2                 scorenc2.0  \n",
       "3                 scorenc4.0  \n",
       "4                 scorenc1.0  \n",
       "...                      ...  \n",
       "14183             scorenc2.0  \n",
       "14184             scorenc1.0  \n",
       "14185             scorenc1.0  \n",
       "14186             scorenc3.0  \n",
       "14187             scorenc1.0  \n",
       "\n",
       "[14188 rows x 5 columns]"
      ]
     },
     "execution_count": 674,
     "metadata": {},
     "output_type": "execute_result"
    }
   ],
   "source": [
    "df_clientes_features"
   ]
  },
  {
   "cell_type": "code",
   "execution_count": 675,
   "metadata": {},
   "outputs": [
    {
     "data": {
      "text/plain": [
       "<matplotlib.axes._subplots.AxesSubplot at 0x7ff995902fd0>"
      ]
     },
     "execution_count": 675,
     "metadata": {},
     "output_type": "execute_result"
    },
    {
     "data": {
      "image/png": "[encoded data removed]",
      "text/plain": [
       "<Figure size 432x288 with 1 Axes>"
      ]
     },
     "metadata": {
      "needs_background": "light"
     },
     "output_type": "display_data"
    }
   ],
   "source": [
    "df_produtos['PrazoDias'].hist(bins = 10)"
   ]
  },
  {
   "cell_type": "code",
   "execution_count": 676,
   "metadata": {},
   "outputs": [],
   "source": [
    "df_produtos['PrazoDias'] = pd.cut(df_produtos['PrazoDias'], bins=[0,731,1250,4000], labels=[\"curtoPrazo\", \"medioPrazo\", \"longoPrazo\"])"
   ]
  },
  {
   "cell_type": "code",
   "execution_count": 677,
   "metadata": {
    "scrolled": true
   },
   "outputs": [
    {
     "data": {
      "text/plain": [
       "<matplotlib.axes._subplots.AxesSubplot at 0x7ff98f595c50>"
      ]
     },
     "execution_count": 677,
     "metadata": {},
     "output_type": "execute_result"
    },
    {
     "data": {
      "image/png": "[encoded data removed]",
      "text/plain": [
       "<Figure size 432x288 with 1 Axes>"
      ]
     },
     "metadata": {
      "needs_background": "light"
     },
     "output_type": "display_data"
    }
   ],
   "source": [
    "df_produtos['PrazoDias'].hist()"
   ]
  },
  {
   "cell_type": "code",
   "execution_count": 678,
   "metadata": {
    "scrolled": true
   },
   "outputs": [
    {
     "data": {
      "text/plain": [
       "<matplotlib.axes._subplots.AxesSubplot at 0x7ff995b8ffd0>"
      ]
     },
     "execution_count": 678,
     "metadata": {},
     "output_type": "execute_result"
    },
    {
     "data": {
      "image/png": "[encoded data removed]",
      "text/plain": [
       "<Figure size 432x288 with 1 Axes>"
      ]
     },
     "metadata": {
      "needs_background": "light"
     },
     "output_type": "display_data"
    }
   ],
   "source": [
    "df_produtos['RiscoAtivo'].hist()"
   ]
  },
  {
   "cell_type": "code",
   "execution_count": 679,
   "metadata": {},
   "outputs": [
    {
     "name": "stdout",
     "output_type": "stream",
     "text": [
      "<class 'pandas.core.frame.DataFrame'>\n",
      "RangeIndex: 8603 entries, 0 to 8602\n",
      "Data columns (total 86 columns):\n",
      " #   Column                             Non-Null Count  Dtype   \n",
      "---  ------                             --------------  -----   \n",
      " 0   dataId                             8603 non-null   int64   \n",
      " 1   AdministradorFundo                 320 non-null    object  \n",
      " 2   AtivoDisponivel                    8603 non-null   int64   \n",
      " 3   Carencia                           8282 non-null   object  \n",
      " 4   CarteiraCNPJ                       320 non-null    object  \n",
      " 5   CNPJAdministrador                  320 non-null    object  \n",
      " 6   DataDeVencimento                   8282 non-null   object  \n",
      " 7   DescontoIR                         8603 non-null   float64 \n",
      " 8   DescricaoAtivo                     8593 non-null   object  \n",
      " 9   DescricaoCarencia                  8603 non-null   object  \n",
      " 10  DescricaoClasse                    8282 non-null   object  \n",
      " 11  DescricaoCotizacaoAplicacao        8603 non-null   object  \n",
      " 12  DescricaoCotizacaoResgate          8603 non-null   object  \n",
      " 13  DescricaoEmissor                   8268 non-null   object  \n",
      " 14  DescricaoIndexador                 8277 non-null   object  \n",
      " 15  DescricaoIndiceBenchmark           304 non-null    object  \n",
      " 16  DescricaoLiquidacaoAplicacao       8603 non-null   object  \n",
      " 17  DescricaoLiquidacaoResgate         8603 non-null   object  \n",
      " 18  DescricaoProduto                   8282 non-null   object  \n",
      " 19  DescricaoTaxaPerformance           320 non-null    object  \n",
      " 20  DescricaoTributacaoProduto         320 non-null    object  \n",
      " 21  DescricaoTributacao                8603 non-null   object  \n",
      " 22  DiasUteisParaResgate               319 non-null    object  \n",
      " 23  DiasVencimento                     8282 non-null   float64 \n",
      " 24  FamiliaCarteira                    320 non-null    object  \n",
      " 25  FiltroValorMinimo                  8603 non-null   int64   \n",
      " 26  GestorFundo                        320 non-null    object  \n",
      " 27  ProdutoId                          8603 non-null   object  \n",
      " 28  Inativo                            8603 non-null   int64   \n",
      " 29  LucroMesAnterior                   320 non-null    float64 \n",
      " 30  NDiasCotizacaoAplicacao            320 non-null    float64 \n",
      " 31  NomeAdministrador                  320 non-null    object  \n",
      " 32  NomeCompleto                       320 non-null    object  \n",
      " 33  NomeEmissor                        8268 non-null   object  \n",
      " 34  NomeIndexador                      8277 non-null   object  \n",
      " 35  NomeInvestimento                   8603 non-null   object  \n",
      " 36  NomeProduto                        8283 non-null   object  \n",
      " 37  Nome                               320 non-null    object  \n",
      " 38  NrDiasUteisCotizacaoResgate        320 non-null    float64 \n",
      " 39  NrDiasUteisLiqFAplicacao           320 non-null    float64 \n",
      " 40  NrDiasUteisLiqFResgate             320 non-null    float64 \n",
      " 41  PatrimonioLiquidoAtual             320 non-null    float64 \n",
      " 42  PercentualIndexador                8282 non-null   float64 \n",
      " 43  PrazoCarencia                      8282 non-null   float64 \n",
      " 44  PrazoDias                          8278 non-null   category\n",
      " 45  PrecoUnitario                      8282 non-null   float64 \n",
      " 46  QuantidadeAvaliacoes               8603 non-null   int64   \n",
      " 47  QuantidadeConsumida                8281 non-null   float64 \n",
      " 48  Rentabilidade12Meses               320 non-null    float64 \n",
      " 49  RentabilidadeAno                   320 non-null    float64 \n",
      " 50  RentabilidadeFundoUltimos36Meses   320 non-null    float64 \n",
      " 51  RentabilidadeIndiceBenchmarkAno    320 non-null    float64 \n",
      " 52  RentabilidadeIndiceBenchmarkMes    320 non-null    float64 \n",
      " 53  RentabilidadeIndiceBenchmarkUlt12  320 non-null    float64 \n",
      " 54  RentabilidadeIndiceBenchmarkUlt36  320 non-null    float64 \n",
      " 55  RentabilidadeInicioFundo           320 non-null    float64 \n",
      " 56  RentabilidadeMes                   320 non-null    float64 \n",
      " 57  RentabilidadeUltimos12Meses        320 non-null    float64 \n",
      " 58  ResgateDias                        8603 non-null   object  \n",
      " 59  RiscoAtivo                         8602 non-null   float64 \n",
      " 60  SaldoMinimoPermanencia             320 non-null    float64 \n",
      " 61  SeFGCAtivo                         8603 non-null   int64   \n",
      " 62  SeIRAtivo                          8603 non-null   int64   \n",
      " 63  StatusCarteira                     320 non-null    object  \n",
      " 64  Status                             0 non-null      object  \n",
      " 65  TaxaAdministracaoFixa              320 non-null    float64 \n",
      " 66  TaxaAdministracaoMaxima            320 non-null    float64 \n",
      " 67  TaxaAdministracaoMinima            320 non-null    float64 \n",
      " 68  TaxaAdm                            0 non-null      object  \n",
      " 69  TaxaCliente                        8282 non-null   float64 \n",
      " 70  TaxaEmissao                        8282 non-null   float64 \n",
      " 71  TaxaNegociada360                   8282 non-null   float64 \n",
      " 72  TaxaPerformance                    0 non-null      object  \n",
      " 73  TaxaPreCliente                     8282 non-null   float64 \n",
      " 74  TaxaPreEmissao                     8282 non-null   float64 \n",
      " 75  Taxa                               8282 non-null   float64 \n",
      " 76  TipoCarteira                       320 non-null    object  \n",
      " 77  TipoCota                           320 non-null    object  \n",
      " 78  TipoIndexador                      8243 non-null   object  \n",
      " 79  TipoRegimeCondomonioCVM            320 non-null    object  \n",
      " 80  Tributacao                         320 non-null    object  \n",
      " 81  ValorMinimoAplicacaoAdicional      320 non-null    float64 \n",
      " 82  ValorMinimoAplicaInicial           320 non-null    float64 \n",
      " 83  ValorMinimoResgate                 320 non-null    float64 \n",
      " 84  ValorMinimo                        8282 non-null   float64 \n",
      " 85  Vencimento                         8282 non-null   object  \n",
      "dtypes: category(1), float64(37), int64(7), object(41)\n",
      "memory usage: 5.6+ MB\n"
     ]
    }
   ],
   "source": [
    "df_produtos.info()"
   ]
  },
  {
   "cell_type": "code",
   "execution_count": 680,
   "metadata": {
    "scrolled": true
   },
   "outputs": [
    {
     "name": "stdout",
     "output_type": "stream",
     "text": [
      "<class 'pandas.core.frame.DataFrame'>\n",
      "RangeIndex: 8603 entries, 0 to 8602\n",
      "Data columns (total 7 columns):\n",
      " #   Column                      Non-Null Count  Dtype   \n",
      "---  ------                      --------------  -----   \n",
      " 0   dataId                      8603 non-null   int64   \n",
      " 1   PrazoDias                   8278 non-null   category\n",
      " 2   ResgateDias                 8603 non-null   object  \n",
      " 3   RiscoAtivo                  8602 non-null   float64 \n",
      " 4   SeFGCAtivo                  8603 non-null   int64   \n",
      " 5   DescricaoTributacao         8603 non-null   object  \n",
      " 6   DescricaoLiquidacaoResgate  8603 non-null   object  \n",
      "dtypes: category(1), float64(1), int64(2), object(3)\n",
      "memory usage: 411.9+ KB\n"
     ]
    }
   ],
   "source": [
    "# selecionando as features do dataset de produtos a serem utilizadas\n",
    "df_produtos_features = df_produtos[['dataId', \n",
    "                                    'PrazoDias', \n",
    "                                    'ResgateDias', \n",
    "                                    'RiscoAtivo', \n",
    "                                    'SeFGCAtivo', \n",
    "                                    'DescricaoTributacao',\n",
    "                                    'DescricaoLiquidacaoResgate']]\n",
    "df_produtos_features.info()"
   ]
  },
  {
   "cell_type": "code",
   "execution_count": 682,
   "metadata": {
    "scrolled": true
   },
   "outputs": [
    {
     "name": "stdout",
     "output_type": "stream",
     "text": [
      "<class 'pandas.core.frame.DataFrame'>\n",
      "RangeIndex: 8603 entries, 0 to 8602\n",
      "Data columns (total 7 columns):\n",
      " #   Column                      Non-Null Count  Dtype   \n",
      "---  ------                      --------------  -----   \n",
      " 0   dataId                      8603 non-null   int64   \n",
      " 1   PrazoDias                   8603 non-null   category\n",
      " 2   ResgateDias                 8603 non-null   object  \n",
      " 3   RiscoAtivo                  8603 non-null   object  \n",
      " 4   SeFGCAtivo                  8603 non-null   int64   \n",
      " 5   DescricaoTributacao         8603 non-null   object  \n",
      " 6   DescricaoLiquidacaoResgate  8603 non-null   object  \n",
      "dtypes: category(1), int64(2), object(4)\n",
      "memory usage: 411.9+ KB\n"
     ]
    }
   ],
   "source": [
    "df_produtos_features.loc[:,'PrazoDias'] = df_produtos_features['PrazoDias'].fillna('curtoPrazo')\n",
    "df_produtos_features.loc[:,'RiscoAtivo'] = df_produtos_features['RiscoAtivo'].fillna('0')\n",
    "df_produtos_features.info()"
   ]
  },
  {
   "cell_type": "code",
   "execution_count": 683,
   "metadata": {},
   "outputs": [
    {
     "data": {
      "text/html": [
       "<div>\n",
       "<style scoped>\n",
       "    .dataframe tbody tr th:only-of-type {\n",
       "        vertical-align: middle;\n",
       "    }\n",
       "\n",
       "    .dataframe tbody tr th {\n",
       "        vertical-align: top;\n",
       "    }\n",
       "\n",
       "    .dataframe thead th {\n",
       "        text-align: right;\n",
       "    }\n",
       "</style>\n",
       "<table border=\"1\" class=\"dataframe\">\n",
       "  <thead>\n",
       "    <tr style=\"text-align: right;\">\n",
       "      <th></th>\n",
       "      <th>dataId</th>\n",
       "      <th>PrazoDias</th>\n",
       "      <th>ResgateDias</th>\n",
       "      <th>RiscoAtivo</th>\n",
       "      <th>SeFGCAtivo</th>\n",
       "      <th>DescricaoTributacao</th>\n",
       "      <th>DescricaoLiquidacaoResgate</th>\n",
       "    </tr>\n",
       "  </thead>\n",
       "  <tbody>\n",
       "    <tr>\n",
       "      <th>0</th>\n",
       "      <td>0</td>\n",
       "      <td>curtoPrazo</td>\n",
       "      <td>No venc.</td>\n",
       "      <td>Risco0.0</td>\n",
       "      <td>FGCAtivo1</td>\n",
       "      <td>15%</td>\n",
       "      <td>No dia</td>\n",
       "    </tr>\n",
       "    <tr>\n",
       "      <th>1</th>\n",
       "      <td>1</td>\n",
       "      <td>medioPrazo</td>\n",
       "      <td>No venc.</td>\n",
       "      <td>Risco0.0</td>\n",
       "      <td>FGCAtivo1</td>\n",
       "      <td>15%</td>\n",
       "      <td>No dia</td>\n",
       "    </tr>\n",
       "    <tr>\n",
       "      <th>2</th>\n",
       "      <td>2</td>\n",
       "      <td>medioPrazo</td>\n",
       "      <td>No venc.</td>\n",
       "      <td>Risco0.0</td>\n",
       "      <td>FGCAtivo1</td>\n",
       "      <td>15%</td>\n",
       "      <td>No dia</td>\n",
       "    </tr>\n",
       "    <tr>\n",
       "      <th>3</th>\n",
       "      <td>3</td>\n",
       "      <td>longoPrazo</td>\n",
       "      <td>No venc.</td>\n",
       "      <td>Risco0.0</td>\n",
       "      <td>FGCAtivo1</td>\n",
       "      <td>15%</td>\n",
       "      <td>No dia</td>\n",
       "    </tr>\n",
       "    <tr>\n",
       "      <th>4</th>\n",
       "      <td>4</td>\n",
       "      <td>curtoPrazo</td>\n",
       "      <td>No venc.</td>\n",
       "      <td>Risco0.0</td>\n",
       "      <td>FGCAtivo1</td>\n",
       "      <td>15%</td>\n",
       "      <td>No dia</td>\n",
       "    </tr>\n",
       "    <tr>\n",
       "      <th>...</th>\n",
       "      <td>...</td>\n",
       "      <td>...</td>\n",
       "      <td>...</td>\n",
       "      <td>...</td>\n",
       "      <td>...</td>\n",
       "      <td>...</td>\n",
       "      <td>...</td>\n",
       "    </tr>\n",
       "    <tr>\n",
       "      <th>8598</th>\n",
       "      <td>8598</td>\n",
       "      <td>curtoPrazo</td>\n",
       "      <td>No venc.</td>\n",
       "      <td>Risco0.0</td>\n",
       "      <td>FGCAtivo1</td>\n",
       "      <td>15%</td>\n",
       "      <td>No dia</td>\n",
       "    </tr>\n",
       "    <tr>\n",
       "      <th>8599</th>\n",
       "      <td>8599</td>\n",
       "      <td>medioPrazo</td>\n",
       "      <td>No venc.</td>\n",
       "      <td>Risco0.0</td>\n",
       "      <td>FGCAtivo1</td>\n",
       "      <td>15%</td>\n",
       "      <td>No dia</td>\n",
       "    </tr>\n",
       "    <tr>\n",
       "      <th>8600</th>\n",
       "      <td>8600</td>\n",
       "      <td>longoPrazo</td>\n",
       "      <td>No venc.</td>\n",
       "      <td>Risco0.0</td>\n",
       "      <td>FGCAtivo1</td>\n",
       "      <td>15%</td>\n",
       "      <td>No dia</td>\n",
       "    </tr>\n",
       "    <tr>\n",
       "      <th>8601</th>\n",
       "      <td>8601</td>\n",
       "      <td>longoPrazo</td>\n",
       "      <td>No venc.</td>\n",
       "      <td>Risco5.0</td>\n",
       "      <td>FGCAtivo1</td>\n",
       "      <td>15%</td>\n",
       "      <td>No dia</td>\n",
       "    </tr>\n",
       "    <tr>\n",
       "      <th>8602</th>\n",
       "      <td>8602</td>\n",
       "      <td>curtoPrazo</td>\n",
       "      <td>Qualquer dia</td>\n",
       "      <td>Risco5.0</td>\n",
       "      <td>FGCAtivo0</td>\n",
       "      <td>15%</td>\n",
       "      <td>2 Dias úteis</td>\n",
       "    </tr>\n",
       "  </tbody>\n",
       "</table>\n",
       "<p>8603 rows × 7 columns</p>\n",
       "</div>"
      ],
      "text/plain": [
       "      dataId   PrazoDias   ResgateDias RiscoAtivo SeFGCAtivo  \\\n",
       "0          0  curtoPrazo      No venc.   Risco0.0  FGCAtivo1   \n",
       "1          1  medioPrazo      No venc.   Risco0.0  FGCAtivo1   \n",
       "2          2  medioPrazo      No venc.   Risco0.0  FGCAtivo1   \n",
       "3          3  longoPrazo      No venc.   Risco0.0  FGCAtivo1   \n",
       "4          4  curtoPrazo      No venc.   Risco0.0  FGCAtivo1   \n",
       "...      ...         ...           ...        ...        ...   \n",
       "8598    8598  curtoPrazo      No venc.   Risco0.0  FGCAtivo1   \n",
       "8599    8599  medioPrazo      No venc.   Risco0.0  FGCAtivo1   \n",
       "8600    8600  longoPrazo      No venc.   Risco0.0  FGCAtivo1   \n",
       "8601    8601  longoPrazo      No venc.   Risco5.0  FGCAtivo1   \n",
       "8602    8602  curtoPrazo  Qualquer dia   Risco5.0  FGCAtivo0   \n",
       "\n",
       "     DescricaoTributacao DescricaoLiquidacaoResgate  \n",
       "0                    15%                     No dia  \n",
       "1                    15%                     No dia  \n",
       "2                    15%                     No dia  \n",
       "3                    15%                     No dia  \n",
       "4                    15%                     No dia  \n",
       "...                  ...                        ...  \n",
       "8598                 15%                     No dia  \n",
       "8599                 15%                     No dia  \n",
       "8600                 15%                     No dia  \n",
       "8601                 15%                     No dia  \n",
       "8602                 15%               2 Dias úteis  \n",
       "\n",
       "[8603 rows x 7 columns]"
      ]
     },
     "execution_count": 683,
     "metadata": {},
     "output_type": "execute_result"
    }
   ],
   "source": [
    "df_produtos_features.loc[:, 'RiscoAtivo'] = 'Risco' + df_produtos_features['RiscoAtivo'].map(str)\n",
    "df_produtos_features.loc[:, 'SeFGCAtivo'] = 'FGCAtivo' + df_produtos_features['SeFGCAtivo'].map(str)\n",
    "df_produtos_features"
   ]
  },
  {
   "cell_type": "code",
   "execution_count": 684,
   "metadata": {},
   "outputs": [],
   "source": [
    "dataset = Dataset(user_identity_features=False, \n",
    "                  item_identity_features=False)\n",
    "dataset.fit((x for x in df_clientes['userid'].unique()),\n",
    "            (x for x in df_produtos['dataId'].unique()), \n",
    "            user_features=df_clientes_features.drop('userid', axis=1).values.ravel(),\n",
    "            item_features=df_produtos_features.drop('dataId', axis=1).values.ravel())"
   ]
  },
  {
   "cell_type": "code",
   "execution_count": 685,
   "metadata": {
    "scrolled": true
   },
   "outputs": [
    {
     "name": "stdout",
     "output_type": "stream",
     "text": [
      "Num users: 14188, num_items 8603.\n"
     ]
    }
   ],
   "source": [
    "num_users, num_items = dataset.interactions_shape()\n",
    "print('Num users: {}, num_items {}.'.format(num_users, num_items))"
   ]
  },
  {
   "cell_type": "code",
   "execution_count": 686,
   "metadata": {
    "scrolled": true
   },
   "outputs": [
    {
     "name": "stdout",
     "output_type": "stream",
     "text": [
      "<14188x8603 sparse matrix of type '<class 'numpy.int32'>'\n",
      "\twith 30061 stored elements in COOrdinate format>\n"
     ]
    }
   ],
   "source": [
    "# Construindo a matriz de interações\n",
    "(interactions, weights) = dataset.build_interactions(((x[0], x[1]) for x in df_cliente_produto.values))\n",
    "\n",
    "print(repr(interactions))"
   ]
  },
  {
   "cell_type": "code",
   "execution_count": 688,
   "metadata": {},
   "outputs": [
    {
     "name": "stdout",
     "output_type": "stream",
     "text": [
      "<14188x21 sparse matrix of type '<class 'numpy.float32'>'\n",
      "\twith 56752 stored elements in Compressed Sparse Row format>\n"
     ]
    }
   ],
   "source": [
    "user_features = dataset.build_user_features(((x[0], [x[1], x[2], x[3], x[4]])\n",
    "                                              for x in df_clientes_features.values))\n",
    "print(repr(user_features))"
   ]
  },
  {
   "cell_type": "code",
   "execution_count": 690,
   "metadata": {},
   "outputs": [
    {
     "name": "stdout",
     "output_type": "stream",
     "text": [
      "<8603x23 sparse matrix of type '<class 'numpy.float32'>'\n",
      "\twith 51618 stored elements in Compressed Sparse Row format>\n"
     ]
    }
   ],
   "source": [
    "item_features = dataset.build_item_features(((x[0], [x[1], x[2], x[3], x[4], x[5], x[6]])\n",
    "                                              for x in df_produtos_features.values))\n",
    "print(repr(item_features))"
   ]
  },
  {
   "cell_type": "code",
   "execution_count": 691,
   "metadata": {},
   "outputs": [],
   "source": [
    "user_id_map, user_feature_map, item_id_map, item_feature_map = dataset.mapping()"
   ]
  },
  {
   "cell_type": "code",
   "execution_count": 692,
   "metadata": {
    "scrolled": true
   },
   "outputs": [
    {
     "data": {
      "text/plain": [
       "{'jovemadulto': 0,\n",
       " 'perfil4': 1,\n",
       " 'scoresf4.0': 2,\n",
       " 'scorenc2.0': 3,\n",
       " 'perfil2': 4,\n",
       " 'scoresf2.0': 5,\n",
       " 'scorenc1.0': 6,\n",
       " 'adulto': 7,\n",
       " 'perfil1': 8,\n",
       " 'scoresf1.0': 9,\n",
       " 'perfil3': 10,\n",
       " 'scorenc4.0': 11,\n",
       " 'scoresf3.0': 12,\n",
       " 'scorenc5.0': 13,\n",
       " 'scorenc3.0': 14,\n",
       " 'perfil5': 15,\n",
       " 'jovem': 16,\n",
       " 'idoso': 17,\n",
       " 'scoresf5.0': 18,\n",
       " 'scoresfnan': 19,\n",
       " 'scorencnan': 20}"
      ]
     },
     "execution_count": 692,
     "metadata": {},
     "output_type": "execute_result"
    }
   ],
   "source": [
    "user_feature_map"
   ]
  },
  {
   "cell_type": "code",
   "execution_count": 693,
   "metadata": {},
   "outputs": [
    {
     "data": {
      "text/plain": [
       "{'curtoPrazo': 0,\n",
       " 'No venc.': 1,\n",
       " 'Risco0.0': 2,\n",
       " 'FGCAtivo1': 3,\n",
       " '15%': 4,\n",
       " 'No dia': 5,\n",
       " 'medioPrazo': 6,\n",
       " 'longoPrazo': 7,\n",
       " 'Risco3.0': 8,\n",
       " 'Qualquer dia': 9,\n",
       " 'Risco5.0': 10,\n",
       " 'FGCAtivo0': 11,\n",
       " '2 Dias úteis': 12,\n",
       " 'Risco2.0': 13,\n",
       " 'Risco4.0': 14,\n",
       " 'Risco1.0': 15,\n",
       " 'Come Cotas': 16,\n",
       " '1 Dia útil': 17,\n",
       " '5 Dias úteis': 18,\n",
       " '3 Dias úteis': 19,\n",
       " 'Com carência': 20,\n",
       " 'Risco0': 21,\n",
       " '4 Dias úteis': 22}"
      ]
     },
     "execution_count": 693,
     "metadata": {},
     "output_type": "execute_result"
    }
   ],
   "source": [
    "item_feature_map"
   ]
  },
  {
   "cell_type": "code",
   "execution_count": 694,
   "metadata": {},
   "outputs": [],
   "source": [
    "# dividindo o dataset em treino e teste\n",
    "\n",
    "interactions_train, interactions_test = random_train_test_split(\n",
    "    interactions, \n",
    "    test_percentage=0.2, \n",
    "    random_state=np.random.RandomState(2020)\n",
    ")"
   ]
  },
  {
   "cell_type": "code",
   "execution_count": 695,
   "metadata": {
    "scrolled": true
   },
   "outputs": [
    {
     "name": "stdout",
     "output_type": "stream",
     "text": [
      "Epoch 0\n",
      "Epoch 1\n",
      "Epoch 2\n",
      "Epoch 3\n",
      "Epoch 4\n",
      "Epoch 5\n",
      "Epoch 6\n",
      "Epoch 7\n",
      "Epoch 8\n",
      "Epoch 9\n"
     ]
    }
   ],
   "source": [
    "# treinando o modelo\n",
    "model = LightFM(\n",
    "    no_components=10,\n",
    "    learning_rate=0.05,\n",
    "    loss='warp',\n",
    "    random_state=2019)\n",
    "\n",
    "model = model.fit(interactions_train,\n",
    "                  user_features=user_features,\n",
    "                  epochs=10,\n",
    "                  num_threads=16, verbose=True)"
   ]
  },
  {
   "cell_type": "code",
   "execution_count": 696,
   "metadata": {},
   "outputs": [
    {
     "data": {
      "text/plain": [
       "0.99614865"
      ]
     },
     "execution_count": 696,
     "metadata": {},
     "output_type": "execute_result"
    }
   ],
   "source": [
    "auc_score(model, \n",
    "          interactions_train, \n",
    "          user_features=user_features, \n",
    "          num_threads=4).mean()"
   ]
  },
  {
   "cell_type": "code",
   "execution_count": 697,
   "metadata": {
    "scrolled": false
   },
   "outputs": [
    {
     "data": {
      "text/plain": [
       "0.9908552"
      ]
     },
     "execution_count": 697,
     "metadata": {},
     "output_type": "execute_result"
    }
   ],
   "source": [
    "auc_score(model, \n",
    "          interactions_test, \n",
    "          user_features=user_features, \n",
    "          train_interactions=interactions_train, \n",
    "          num_threads=4).mean()"
   ]
  },
  {
   "cell_type": "code",
   "execution_count": 698,
   "metadata": {},
   "outputs": [],
   "source": [
    "def sample_recommendation_new_user(model, interactions, user_feature_map, new_user_features, \n",
    "                                   item_dict, nrec_items = 5):\n",
    "    \n",
    "    target_indices = []\n",
    "    for feature in new_user_features:\n",
    "        target_indices.append(user_feature_map[feature])\n",
    "\n",
    "    features = np.zeros(len(user_feature_map.keys()))\n",
    "    for i in target_indices:\n",
    "        features[i] = 1\n",
    "    features = sps.csr_matrix(features)\n",
    "\n",
    "    n_users, n_items = interactions.shape\n",
    "    scores = pd.Series(model.predict(0, np.arange(num_items), \n",
    "                                     user_features=features, item_features=item_features))\n",
    "    scores.index = list(item_id_map.values())\n",
    "    scores = list(pd.Series(scores.sort_values(ascending=False).index))\n",
    "\n",
    "    return_score_list = scores[0:nrec_items]\n",
    "    inv_item_id_map = {v: k for k, v in item_dict.items()}\n",
    "    scores = list(pd.Series(return_score_list).apply(lambda x: inv_item_id_map[x]))\n",
    "    \n",
    "    print (\"Novo Usuario\")\n",
    "    print(\"\\nProdutos Recomendados:\")\n",
    "    counter = 1\n",
    "    for i in scores:\n",
    "        print(str(counter) + '- ' + str(i))\n",
    "        counter+=1"
   ]
  },
  {
   "cell_type": "code",
   "execution_count": 699,
   "metadata": {},
   "outputs": [
    {
     "name": "stdout",
     "output_type": "stream",
     "text": [
      "Novo Usuario\n",
      "\n",
      "Produtos Recomendados:\n",
      "1- 2731\n",
      "2- 5780\n",
      "3- 5189\n",
      "4- 6167\n",
      "5- 8393\n"
     ]
    }
   ],
   "source": [
    "new_user_feature_list = ['idoso', 'perfil5', 'scoresf5.0', 'scorenc5.0' ] \n",
    "\n",
    "sample_recommendation_new_user(model, interactions, user_feature_map, new_user_feature_list, item_id_map)"
   ]
  },
  {
   "cell_type": "code",
   "execution_count": 587,
   "metadata": {},
   "outputs": [],
   "source": [
    "def sample_recommendation_user(model, interactions, user_id, user_dict, \n",
    "                               item_dict, nrec_items = 5):\n",
    "    \n",
    "    n_users, n_items = interactions.shape\n",
    "    user_x = user_dict[user_id]\n",
    "    scores = pd.Series(model.predict(user_x, np.arange(n_items)))#, item_features=books_metadata_csr))\n",
    "    scores.index = list(item_id_map.values())\n",
    "    scores = list(pd.Series(scores.sort_values(ascending=False).index))\n",
    "    \n",
    "    user_items = list(df_cliente_produto[df_cliente_produto['userid'] == user_id]['produtoid'].values)\n",
    "    user_items_indexes = list(pd.Series(user_items).apply(lambda x: item_id_map[x]))\n",
    "\n",
    "    scores = [x for x in scores if x not in user_items_indexes]\n",
    "    return_score_list = scores[0:nrec_items]\n",
    "    inv_item_id_map = {v: k for k, v in item_dict.items()}\n",
    "    scores = list(pd.Series(return_score_list).apply(lambda x: inv_item_id_map[x]))\n",
    "    \n",
    "    print (\"Usuario: \" + str(user_id))\n",
    "    print(\"Produtos já adquiridos:\")\n",
    "    counter = 1\n",
    "    for i in user_items:\n",
    "        print(str(counter) + '- ' + str(i))\n",
    "        counter+=1\n",
    "    print(\"\\nProdutos Recomendados:\")\n",
    "    counter = 1\n",
    "    for i in scores:\n",
    "        print(str(counter) + '- ' + str(i))\n",
    "        counter+=1"
   ]
  },
  {
   "cell_type": "code",
   "execution_count": 588,
   "metadata": {
    "scrolled": true
   },
   "outputs": [
    {
     "name": "stdout",
     "output_type": "stream",
     "text": [
      "Usuario: 5\n",
      "Produtos já adquiridos:\n",
      "1- 6085\n",
      "2- 6082\n",
      "\n",
      "Produtos Recomendados:\n",
      "1- 5972\n",
      "2- 5386\n",
      "3- 5470\n",
      "4- 6138\n",
      "5- 6014\n"
     ]
    }
   ],
   "source": [
    "sample_recommendation_user(model, interactions, 5, user_id_map, item_id_map)"
   ]
  }
 ],
 "metadata": {
  "kernelspec": {
   "display_name": "Python 3",
   "language": "python",
   "name": "python3"
  },
  "language_info": {
   "codemirror_mode": {
    "name": "ipython",
    "version": 3
   },
   "file_extension": ".py",
   "mimetype": "text/x-python",
   "name": "python",
   "nbconvert_exporter": "python",
   "pygments_lexer": "ipython3",
   "version": "3.7.6"
  }
 },
 "nbformat": 4,
 "nbformat_minor": 4
}
