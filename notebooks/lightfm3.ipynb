{
 "cells": [
  {
   "cell_type": "code",
   "execution_count": 286,
   "metadata": {},
   "outputs": [],
   "source": [
    "import sys\n",
    "import pandas as pd\n",
    "import numpy as np\n",
    "from sqlalchemy import create_engine\n",
    "import pymysql\n",
    "import scipy.sparse as sps\n",
    "\n",
    "from lightfm.data import Dataset\n",
    "from lightfm import LightFM\n",
    "from lightfm.evaluation import auc_score\n",
    "from lightfm.cross_validation import random_train_test_split"
   ]
  },
  {
   "cell_type": "code",
   "execution_count": 287,
   "metadata": {},
   "outputs": [],
   "source": [
    "db_connection_str = 'mysql+pymysql://root:123@db/invest'\n",
    "db_connection = create_engine(db_connection_str)\n",
    "\n",
    "df_clientes = pd.read_sql('SELECT * FROM cli_Clientes', con=db_connection)\n",
    "df_cliente_produto = pd.read_sql('SELECT * FROM cli_Produtos', con=db_connection)\n",
    "df_produtos = pd.read_sql('SELECT * FROM Produtos', con=db_connection)"
   ]
  },
  {
   "cell_type": "code",
   "execution_count": 288,
   "metadata": {
    "scrolled": false
   },
   "outputs": [
    {
     "data": {
      "text/html": [
       "<div>\n",
       "<style scoped>\n",
       "    .dataframe tbody tr th:only-of-type {\n",
       "        vertical-align: middle;\n",
       "    }\n",
       "\n",
       "    .dataframe tbody tr th {\n",
       "        vertical-align: top;\n",
       "    }\n",
       "\n",
       "    .dataframe thead th {\n",
       "        text-align: right;\n",
       "    }\n",
       "</style>\n",
       "<table border=\"1\" class=\"dataframe\">\n",
       "  <thead>\n",
       "    <tr style=\"text-align: right;\">\n",
       "      <th></th>\n",
       "      <th>userid</th>\n",
       "      <th>produtoid</th>\n",
       "      <th>valorrendimento</th>\n",
       "      <th>dataefetivacao</th>\n",
       "    </tr>\n",
       "  </thead>\n",
       "  <tbody>\n",
       "    <tr>\n",
       "      <th>33840</th>\n",
       "      <td>9824</td>\n",
       "      <td>5972</td>\n",
       "      <td>NaN</td>\n",
       "      <td>2019-10-07</td>\n",
       "    </tr>\n",
       "    <tr>\n",
       "      <th>18492</th>\n",
       "      <td>8370</td>\n",
       "      <td>71</td>\n",
       "      <td>NaN</td>\n",
       "      <td>2020-01-29</td>\n",
       "    </tr>\n",
       "  </tbody>\n",
       "</table>\n",
       "</div>"
      ],
      "text/plain": [
       "       userid  produtoid  valorrendimento dataefetivacao\n",
       "33840    9824       5972              NaN     2019-10-07\n",
       "18492    8370         71              NaN     2020-01-29"
      ]
     },
     "execution_count": 288,
     "metadata": {},
     "output_type": "execute_result"
    }
   ],
   "source": [
    "df_cliente_produto.sample(2)"
   ]
  },
  {
   "cell_type": "code",
   "execution_count": 289,
   "metadata": {},
   "outputs": [],
   "source": [
    "# removendo linhas com userid = 0 -> esses são os produtos que nenhum cliente comprou ainda\n",
    "\n",
    "df_cliente_produto = df_cliente_produto[df_cliente_produto['userid'] > 0]"
   ]
  },
  {
   "cell_type": "code",
   "execution_count": 290,
   "metadata": {
    "scrolled": true
   },
   "outputs": [
    {
     "name": "stdout",
     "output_type": "stream",
     "text": [
      "<class 'pandas.core.frame.DataFrame'>\n",
      "Int64Index: 48333 entries, 0 to 48332\n",
      "Data columns (total 4 columns):\n",
      " #   Column           Non-Null Count  Dtype  \n",
      "---  ------           --------------  -----  \n",
      " 0   userid           48333 non-null  int64  \n",
      " 1   produtoid        48333 non-null  int64  \n",
      " 2   valorrendimento  7216 non-null   float64\n",
      " 3   dataefetivacao   48272 non-null  object \n",
      "dtypes: float64(1), int64(2), object(1)\n",
      "memory usage: 1.8+ MB\n"
     ]
    }
   ],
   "source": [
    "df_cliente_produto.info()"
   ]
  },
  {
   "cell_type": "code",
   "execution_count": 291,
   "metadata": {},
   "outputs": [
    {
     "data": {
      "text/plain": [
       "<matplotlib.axes._subplots.AxesSubplot at 0x7ff9c2c0cb10>"
      ]
     },
     "execution_count": 291,
     "metadata": {},
     "output_type": "execute_result"
    },
    {
     "data": {
      "image/png": "[encoded data removed]",
      "text/plain": [
       "<Figure size 432x288 with 1 Axes>"
      ]
     },
     "metadata": {
      "needs_background": "light"
     },
     "output_type": "display_data"
    }
   ],
   "source": [
    "df_cliente_produto['produtoid'].hist(bins = 100)"
   ]
  },
  {
   "cell_type": "code",
   "execution_count": 292,
   "metadata": {
    "scrolled": true
   },
   "outputs": [
    {
     "data": {
      "text/plain": [
       "5972    15397\n",
       "6085     4470\n",
       "5386     3011\n",
       "6082     2001\n",
       "6138     1331\n",
       "        ...  \n",
       "6106        1\n",
       "6170        1\n",
       "134         1\n",
       "6266        1\n",
       "5909        1\n",
       "Name: produtoid, Length: 900, dtype: int64"
      ]
     },
     "execution_count": 292,
     "metadata": {},
     "output_type": "execute_result"
    }
   ],
   "source": [
    "# analisando os produtos mais populares\n",
    "df_cliente_produto['produtoid'].value_counts()"
   ]
  },
  {
   "cell_type": "code",
   "execution_count": 293,
   "metadata": {},
   "outputs": [
    {
     "data": {
      "text/html": [
       "<div>\n",
       "<style scoped>\n",
       "    .dataframe tbody tr th:only-of-type {\n",
       "        vertical-align: middle;\n",
       "    }\n",
       "\n",
       "    .dataframe tbody tr th {\n",
       "        vertical-align: top;\n",
       "    }\n",
       "\n",
       "    .dataframe thead th {\n",
       "        text-align: right;\n",
       "    }\n",
       "</style>\n",
       "<table border=\"1\" class=\"dataframe\">\n",
       "  <thead>\n",
       "    <tr style=\"text-align: right;\">\n",
       "      <th></th>\n",
       "      <th>dataId</th>\n",
       "      <th>AdministradorFundo</th>\n",
       "      <th>AtivoDisponivel</th>\n",
       "      <th>Carencia</th>\n",
       "      <th>CarteiraCNPJ</th>\n",
       "      <th>CNPJAdministrador</th>\n",
       "      <th>DataDeVencimento</th>\n",
       "      <th>DescontoIR</th>\n",
       "      <th>DescricaoAtivo</th>\n",
       "      <th>DescricaoCarencia</th>\n",
       "      <th>...</th>\n",
       "      <th>TipoCarteira</th>\n",
       "      <th>TipoCota</th>\n",
       "      <th>TipoIndexador</th>\n",
       "      <th>TipoRegimeCondomonioCVM</th>\n",
       "      <th>Tributacao</th>\n",
       "      <th>ValorMinimoAplicacaoAdicional</th>\n",
       "      <th>ValorMinimoAplicaInicial</th>\n",
       "      <th>ValorMinimoResgate</th>\n",
       "      <th>ValorMinimo</th>\n",
       "      <th>Vencimento</th>\n",
       "    </tr>\n",
       "  </thead>\n",
       "  <tbody>\n",
       "    <tr>\n",
       "      <th>5972</th>\n",
       "      <td>5972</td>\n",
       "      <td>SANTANDER SECURITIES SERVICES BRASIL DTVM S.A.</td>\n",
       "      <td>1</td>\n",
       "      <td>None</td>\n",
       "      <td>30.353.590/0001-05</td>\n",
       "      <td>03.502.968/0001-04</td>\n",
       "      <td>None</td>\n",
       "      <td>22.5</td>\n",
       "      <td>O FUNDO tem por objetivo investir em ativos fi...</td>\n",
       "      <td>Qualquer dia</td>\n",
       "      <td>...</td>\n",
       "      <td>Fundo de Renda Fixa</td>\n",
       "      <td>Abertura</td>\n",
       "      <td>None</td>\n",
       "      <td>Aberto</td>\n",
       "      <td>Longo prazo</td>\n",
       "      <td>30.0</td>\n",
       "      <td>30.0</td>\n",
       "      <td>30.0</td>\n",
       "      <td>NaN</td>\n",
       "      <td>None</td>\n",
       "    </tr>\n",
       "  </tbody>\n",
       "</table>\n",
       "<p>1 rows × 86 columns</p>\n",
       "</div>"
      ],
      "text/plain": [
       "      dataId                              AdministradorFundo  AtivoDisponivel  \\\n",
       "5972    5972  SANTANDER SECURITIES SERVICES BRASIL DTVM S.A.                1   \n",
       "\n",
       "     Carencia        CarteiraCNPJ   CNPJAdministrador DataDeVencimento  \\\n",
       "5972     None  30.353.590/0001-05  03.502.968/0001-04             None   \n",
       "\n",
       "      DescontoIR                                     DescricaoAtivo  \\\n",
       "5972        22.5  O FUNDO tem por objetivo investir em ativos fi...   \n",
       "\n",
       "     DescricaoCarencia  ...         TipoCarteira  TipoCota TipoIndexador  \\\n",
       "5972      Qualquer dia  ...  Fundo de Renda Fixa  Abertura          None   \n",
       "\n",
       "     TipoRegimeCondomonioCVM   Tributacao ValorMinimoAplicacaoAdicional  \\\n",
       "5972                  Aberto  Longo prazo                          30.0   \n",
       "\n",
       "     ValorMinimoAplicaInicial ValorMinimoResgate ValorMinimo Vencimento  \n",
       "5972                     30.0               30.0         NaN       None  \n",
       "\n",
       "[1 rows x 86 columns]"
      ]
     },
     "execution_count": 293,
     "metadata": {},
     "output_type": "execute_result"
    }
   ],
   "source": [
    "# o produto mais popular\n",
    "df_produtos[df_produtos['dataId'] == 5972]"
   ]
  },
  {
   "cell_type": "code",
   "execution_count": 294,
   "metadata": {
    "scrolled": true
   },
   "outputs": [
    {
     "data": {
      "text/plain": [
       "1369     36\n",
       "736      27\n",
       "462      22\n",
       "566      21\n",
       "2353     20\n",
       "         ..\n",
       "1076      1\n",
       "11321     1\n",
       "3133      1\n",
       "1092      1\n",
       "2049      1\n",
       "Name: userid, Length: 6927, dtype: int64"
      ]
     },
     "execution_count": 294,
     "metadata": {},
     "output_type": "execute_result"
    }
   ],
   "source": [
    "# vendo os clientes que compraram mais vezes o produto mais popular\n",
    "df_cliente_produto[df_cliente_produto['produtoid'] == 5972]['userid'].value_counts()"
   ]
  },
  {
   "cell_type": "code",
   "execution_count": 295,
   "metadata": {},
   "outputs": [],
   "source": [
    "# removendo os relacionamentos duplicados (clientes que compraram o mesmo produto mais de uma vez)\n",
    "df_cliente_produto = df_cliente_produto[['userid','produtoid']].drop_duplicates()"
   ]
  },
  {
   "cell_type": "code",
   "execution_count": 296,
   "metadata": {},
   "outputs": [
    {
     "name": "stdout",
     "output_type": "stream",
     "text": [
      "<class 'pandas.core.frame.DataFrame'>\n",
      "Int64Index: 30061 entries, 0 to 48332\n",
      "Data columns (total 2 columns):\n",
      " #   Column     Non-Null Count  Dtype\n",
      "---  ------     --------------  -----\n",
      " 0   userid     30061 non-null  int64\n",
      " 1   produtoid  30061 non-null  int64\n",
      "dtypes: int64(2)\n",
      "memory usage: 704.6 KB\n"
     ]
    }
   ],
   "source": [
    "df_cliente_produto.info()"
   ]
  },
  {
   "cell_type": "code",
   "execution_count": 297,
   "metadata": {
    "scrolled": true
   },
   "outputs": [
    {
     "data": {
      "text/plain": [
       "<matplotlib.axes._subplots.AxesSubplot at 0x7ff9c7f89d50>"
      ]
     },
     "execution_count": 297,
     "metadata": {},
     "output_type": "execute_result"
    },
    {
     "data": {
      "image/png": "[encoded data removed]",
      "text/plain": [
       "<Figure size 432x288 with 1 Axes>"
      ]
     },
     "metadata": {
      "needs_background": "light"
     },
     "output_type": "display_data"
    }
   ],
   "source": [
    "df_cliente_produto['produtoid'].hist(bins = 100)"
   ]
  },
  {
   "cell_type": "code",
   "execution_count": 298,
   "metadata": {
    "scrolled": true
   },
   "outputs": [
    {
     "data": {
      "text/html": [
       "<div>\n",
       "<style scoped>\n",
       "    .dataframe tbody tr th:only-of-type {\n",
       "        vertical-align: middle;\n",
       "    }\n",
       "\n",
       "    .dataframe tbody tr th {\n",
       "        vertical-align: top;\n",
       "    }\n",
       "\n",
       "    .dataframe thead th {\n",
       "        text-align: right;\n",
       "    }\n",
       "</style>\n",
       "<table border=\"1\" class=\"dataframe\">\n",
       "  <thead>\n",
       "    <tr style=\"text-align: right;\">\n",
       "      <th></th>\n",
       "      <th>userid</th>\n",
       "      <th>userid_aux</th>\n",
       "      <th>idade</th>\n",
       "      <th>genero</th>\n",
       "      <th>estadocivil</th>\n",
       "      <th>billingcity</th>\n",
       "      <th>profissaopessoa</th>\n",
       "      <th>patrimonioautomoveis</th>\n",
       "      <th>patrimonioimoveis</th>\n",
       "      <th>patrimonioinvestimentos</th>\n",
       "      <th>...</th>\n",
       "      <th>nivelconhecimentoatual</th>\n",
       "      <th>scorenivelconhecimento</th>\n",
       "      <th>perfilinvestidor</th>\n",
       "      <th>rendamensal</th>\n",
       "      <th>valorpatrimonio</th>\n",
       "      <th>scorerisco</th>\n",
       "      <th>scoreobjetivos</th>\n",
       "      <th>scoresituacaofinanceira</th>\n",
       "      <th>createddate</th>\n",
       "      <th>dataclienteefetivado</th>\n",
       "    </tr>\n",
       "  </thead>\n",
       "  <tbody>\n",
       "    <tr>\n",
       "      <th>5576</th>\n",
       "      <td>5577</td>\n",
       "      <td>$2b$10$.DCvvJ9WSDpqVP2xXjeSPeb0/lPplNkDjK5bwVY...</td>\n",
       "      <td>25.5</td>\n",
       "      <td>M</td>\n",
       "      <td>S</td>\n",
       "      <td>Passo Fundo</td>\n",
       "      <td>Auxiliar de Escritório e Assemelhados</td>\n",
       "      <td>0.0</td>\n",
       "      <td>0.0</td>\n",
       "      <td>0.0</td>\n",
       "      <td>...</td>\n",
       "      <td>1.0</td>\n",
       "      <td>1.0</td>\n",
       "      <td>2</td>\n",
       "      <td>2500.0</td>\n",
       "      <td>12000.0</td>\n",
       "      <td>3.0</td>\n",
       "      <td>2.0</td>\n",
       "      <td>2.0</td>\n",
       "      <td>2019-09-13 18:40:05</td>\n",
       "      <td>2019-09-13 12:00:00</td>\n",
       "    </tr>\n",
       "    <tr>\n",
       "      <th>6170</th>\n",
       "      <td>6171</td>\n",
       "      <td>$2b$10$.DCvvJ9WSDpqVP2xXjeSPextmoycE6QBvNMnw3e...</td>\n",
       "      <td>43.2</td>\n",
       "      <td>M</td>\n",
       "      <td>S</td>\n",
       "      <td>São Paulo</td>\n",
       "      <td>Autônomo</td>\n",
       "      <td>0.0</td>\n",
       "      <td>0.0</td>\n",
       "      <td>0.0</td>\n",
       "      <td>...</td>\n",
       "      <td>3.0</td>\n",
       "      <td>3.0</td>\n",
       "      <td>4</td>\n",
       "      <td>5000.0</td>\n",
       "      <td>100000.0</td>\n",
       "      <td>5.0</td>\n",
       "      <td>5.0</td>\n",
       "      <td>5.0</td>\n",
       "      <td>2019-12-04 18:03:57</td>\n",
       "      <td>2019-12-04 12:00:00</td>\n",
       "    </tr>\n",
       "  </tbody>\n",
       "</table>\n",
       "<p>2 rows × 21 columns</p>\n",
       "</div>"
      ],
      "text/plain": [
       "      userid                                         userid_aux  idade genero  \\\n",
       "5576    5577  $2b$10$.DCvvJ9WSDpqVP2xXjeSPeb0/lPplNkDjK5bwVY...   25.5      M   \n",
       "6170    6171  $2b$10$.DCvvJ9WSDpqVP2xXjeSPextmoycE6QBvNMnw3e...   43.2      M   \n",
       "\n",
       "     estadocivil  billingcity                        profissaopessoa  \\\n",
       "5576           S  Passo Fundo  Auxiliar de Escritório e Assemelhados   \n",
       "6170           S    São Paulo                               Autônomo   \n",
       "\n",
       "      patrimonioautomoveis  patrimonioimoveis  patrimonioinvestimentos  ...  \\\n",
       "5576                   0.0                0.0                      0.0  ...   \n",
       "6170                   0.0                0.0                      0.0  ...   \n",
       "\n",
       "      nivelconhecimentoatual  scorenivelconhecimento  perfilinvestidor  \\\n",
       "5576                     1.0                     1.0                 2   \n",
       "6170                     3.0                     3.0                 4   \n",
       "\n",
       "      rendamensal  valorpatrimonio  scorerisco  scoreobjetivos  \\\n",
       "5576       2500.0          12000.0         3.0             2.0   \n",
       "6170       5000.0         100000.0         5.0             5.0   \n",
       "\n",
       "      scoresituacaofinanceira          createddate dataclienteefetivado  \n",
       "5576                      2.0  2019-09-13 18:40:05  2019-09-13 12:00:00  \n",
       "6170                      5.0  2019-12-04 18:03:57  2019-12-04 12:00:00  \n",
       "\n",
       "[2 rows x 21 columns]"
      ]
     },
     "execution_count": 298,
     "metadata": {},
     "output_type": "execute_result"
    }
   ],
   "source": [
    "df_clientes.sample(2)"
   ]
  },
  {
   "cell_type": "code",
   "execution_count": 299,
   "metadata": {
    "scrolled": true
   },
   "outputs": [
    {
     "data": {
      "text/html": [
       "<div>\n",
       "<style scoped>\n",
       "    .dataframe tbody tr th:only-of-type {\n",
       "        vertical-align: middle;\n",
       "    }\n",
       "\n",
       "    .dataframe tbody tr th {\n",
       "        vertical-align: top;\n",
       "    }\n",
       "\n",
       "    .dataframe thead th {\n",
       "        text-align: right;\n",
       "    }\n",
       "</style>\n",
       "<table border=\"1\" class=\"dataframe\">\n",
       "  <thead>\n",
       "    <tr style=\"text-align: right;\">\n",
       "      <th></th>\n",
       "      <th>dataId</th>\n",
       "      <th>AdministradorFundo</th>\n",
       "      <th>AtivoDisponivel</th>\n",
       "      <th>Carencia</th>\n",
       "      <th>CarteiraCNPJ</th>\n",
       "      <th>CNPJAdministrador</th>\n",
       "      <th>DataDeVencimento</th>\n",
       "      <th>DescontoIR</th>\n",
       "      <th>DescricaoAtivo</th>\n",
       "      <th>DescricaoCarencia</th>\n",
       "      <th>...</th>\n",
       "      <th>TipoCarteira</th>\n",
       "      <th>TipoCota</th>\n",
       "      <th>TipoIndexador</th>\n",
       "      <th>TipoRegimeCondomonioCVM</th>\n",
       "      <th>Tributacao</th>\n",
       "      <th>ValorMinimoAplicacaoAdicional</th>\n",
       "      <th>ValorMinimoAplicaInicial</th>\n",
       "      <th>ValorMinimoResgate</th>\n",
       "      <th>ValorMinimo</th>\n",
       "      <th>Vencimento</th>\n",
       "    </tr>\n",
       "  </thead>\n",
       "  <tbody>\n",
       "    <tr>\n",
       "      <th>5096</th>\n",
       "      <td>5096</td>\n",
       "      <td>None</td>\n",
       "      <td>0</td>\n",
       "      <td>2024-10-28</td>\n",
       "      <td>None</td>\n",
       "      <td>None</td>\n",
       "      <td>2024-10-28</td>\n",
       "      <td>15.0</td>\n",
       "      <td>O Certificado de Depxsito Bancxrio, de forma s...</td>\n",
       "      <td>No venc.</td>\n",
       "      <td>...</td>\n",
       "      <td>None</td>\n",
       "      <td>None</td>\n",
       "      <td>IPCA</td>\n",
       "      <td>None</td>\n",
       "      <td>None</td>\n",
       "      <td>NaN</td>\n",
       "      <td>NaN</td>\n",
       "      <td>NaN</td>\n",
       "      <td>10000.0</td>\n",
       "      <td>2024-10-28</td>\n",
       "    </tr>\n",
       "    <tr>\n",
       "      <th>5606</th>\n",
       "      <td>5606</td>\n",
       "      <td>None</td>\n",
       "      <td>0</td>\n",
       "      <td>2021-07-19</td>\n",
       "      <td>None</td>\n",
       "      <td>None</td>\n",
       "      <td>2021-07-19</td>\n",
       "      <td>17.5</td>\n",
       "      <td>O Certificado de Depósito Bancário, de forma s...</td>\n",
       "      <td>No venc.</td>\n",
       "      <td>...</td>\n",
       "      <td>None</td>\n",
       "      <td>None</td>\n",
       "      <td>Pré fixado</td>\n",
       "      <td>None</td>\n",
       "      <td>None</td>\n",
       "      <td>NaN</td>\n",
       "      <td>NaN</td>\n",
       "      <td>NaN</td>\n",
       "      <td>10000.0</td>\n",
       "      <td>2021-07-19</td>\n",
       "    </tr>\n",
       "  </tbody>\n",
       "</table>\n",
       "<p>2 rows × 86 columns</p>\n",
       "</div>"
      ],
      "text/plain": [
       "      dataId AdministradorFundo  AtivoDisponivel    Carencia CarteiraCNPJ  \\\n",
       "5096    5096               None                0  2024-10-28         None   \n",
       "5606    5606               None                0  2021-07-19         None   \n",
       "\n",
       "     CNPJAdministrador DataDeVencimento  DescontoIR  \\\n",
       "5096              None       2024-10-28        15.0   \n",
       "5606              None       2021-07-19        17.5   \n",
       "\n",
       "                                         DescricaoAtivo DescricaoCarencia  \\\n",
       "5096  O Certificado de Depxsito Bancxrio, de forma s...          No venc.   \n",
       "5606  O Certificado de Depósito Bancário, de forma s...          No venc.   \n",
       "\n",
       "      ... TipoCarteira TipoCota TipoIndexador TipoRegimeCondomonioCVM  \\\n",
       "5096  ...         None     None          IPCA                    None   \n",
       "5606  ...         None     None    Pré fixado                    None   \n",
       "\n",
       "     Tributacao ValorMinimoAplicacaoAdicional ValorMinimoAplicaInicial  \\\n",
       "5096       None                           NaN                      NaN   \n",
       "5606       None                           NaN                      NaN   \n",
       "\n",
       "     ValorMinimoResgate ValorMinimo  Vencimento  \n",
       "5096                NaN     10000.0  2024-10-28  \n",
       "5606                NaN     10000.0  2021-07-19  \n",
       "\n",
       "[2 rows x 86 columns]"
      ]
     },
     "execution_count": 299,
     "metadata": {},
     "output_type": "execute_result"
    }
   ],
   "source": [
    "df_produtos.sample(2)"
   ]
  },
  {
   "cell_type": "code",
   "execution_count": 300,
   "metadata": {},
   "outputs": [
    {
     "name": "stdout",
     "output_type": "stream",
     "text": [
      "<class 'pandas.core.frame.DataFrame'>\n",
      "RangeIndex: 14188 entries, 0 to 14187\n",
      "Data columns (total 2 columns):\n",
      " #   Column            Non-Null Count  Dtype\n",
      "---  ------            --------------  -----\n",
      " 0   userid            14188 non-null  int64\n",
      " 1   perfilinvestidor  14188 non-null  int64\n",
      "dtypes: int64(2)\n",
      "memory usage: 221.8 KB\n"
     ]
    }
   ],
   "source": [
    "# selecionando as features do dataset de clientes a serem utilizadas\n",
    "df_clientes_features = df_clientes[['userid', 'perfilinvestidor']]\n",
    "df_clientes_features.info()"
   ]
  },
  {
   "cell_type": "code",
   "execution_count": 301,
   "metadata": {
    "scrolled": true
   },
   "outputs": [
    {
     "name": "stdout",
     "output_type": "stream",
     "text": [
      "<class 'pandas.core.frame.DataFrame'>\n",
      "RangeIndex: 14188 entries, 0 to 14187\n",
      "Data columns (total 2 columns):\n",
      " #   Column            Non-Null Count  Dtype\n",
      "---  ------            --------------  -----\n",
      " 0   userid            14188 non-null  int64\n",
      " 1   perfilinvestidor  14188 non-null  int64\n",
      "dtypes: int64(2)\n",
      "memory usage: 221.8 KB\n"
     ]
    }
   ],
   "source": [
    "# preenchendo com 0 os dados faltantes\n",
    "df_clientes_features = df_clientes_features.fillna(0)\n",
    "df_clientes_features.info()"
   ]
  },
  {
   "cell_type": "code",
   "execution_count": 302,
   "metadata": {},
   "outputs": [],
   "source": [
    "dataset = Dataset(user_identity_features=False, \n",
    "                  item_identity_features=False)\n",
    "dataset.fit((x for x in df_clientes['userid'].unique()),\n",
    "            (x for x in df_produtos['dataId'].unique()), \n",
    "            user_features=(x[0] for x in df_clientes_features.drop('userid', axis=1).values))"
   ]
  },
  {
   "cell_type": "code",
   "execution_count": 303,
   "metadata": {
    "scrolled": true
   },
   "outputs": [
    {
     "name": "stdout",
     "output_type": "stream",
     "text": [
      "Num users: 14188, num_items 8603.\n"
     ]
    }
   ],
   "source": [
    "num_users, num_items = dataset.interactions_shape()\n",
    "print('Num users: {}, num_items {}.'.format(num_users, num_items))"
   ]
  },
  {
   "cell_type": "code",
   "execution_count": 304,
   "metadata": {
    "scrolled": true
   },
   "outputs": [
    {
     "name": "stdout",
     "output_type": "stream",
     "text": [
      "<14188x8603 sparse matrix of type '<class 'numpy.int32'>'\n",
      "\twith 30061 stored elements in COOrdinate format>\n"
     ]
    }
   ],
   "source": [
    "# Construindo a matriz de interações\n",
    "(interactions, weights) = dataset.build_interactions(((x[0], x[1]) for x in df_cliente_produto.values))\n",
    "\n",
    "print(repr(interactions))"
   ]
  },
  {
   "cell_type": "code",
   "execution_count": 305,
   "metadata": {},
   "outputs": [
    {
     "name": "stdout",
     "output_type": "stream",
     "text": [
      "<14188x5 sparse matrix of type '<class 'numpy.float32'>'\n",
      "\twith 14188 stored elements in Compressed Sparse Row format>\n"
     ]
    }
   ],
   "source": [
    "user_features = dataset.build_user_features(((x[0], [x[1]])\n",
    "                                              for x in df_clientes_features.values))\n",
    "print(repr(user_features))"
   ]
  },
  {
   "cell_type": "code",
   "execution_count": 306,
   "metadata": {},
   "outputs": [],
   "source": [
    "user_id_map, user_feature_map, item_id_map, item_feature_map = dataset.mapping()"
   ]
  },
  {
   "cell_type": "code",
   "execution_count": 307,
   "metadata": {},
   "outputs": [
    {
     "data": {
      "text/plain": [
       "{4: 0, 2: 1, 1: 2, 3: 3, 5: 4}"
      ]
     },
     "execution_count": 307,
     "metadata": {},
     "output_type": "execute_result"
    }
   ],
   "source": [
    "user_feature_map"
   ]
  },
  {
   "cell_type": "code",
   "execution_count": 308,
   "metadata": {},
   "outputs": [],
   "source": [
    "# dividindo o dataset em treino e teste\n",
    "\n",
    "interactions_train, interactions_test = random_train_test_split(\n",
    "    interactions, \n",
    "    test_percentage=0.2, \n",
    "    random_state=np.random.RandomState(2020)\n",
    ")"
   ]
  },
  {
   "cell_type": "code",
   "execution_count": 309,
   "metadata": {
    "scrolled": true
   },
   "outputs": [
    {
     "name": "stdout",
     "output_type": "stream",
     "text": [
      "Epoch 0\n",
      "Epoch 1\n",
      "Epoch 2\n",
      "Epoch 3\n",
      "Epoch 4\n",
      "Epoch 5\n",
      "Epoch 6\n",
      "Epoch 7\n",
      "Epoch 8\n",
      "Epoch 9\n"
     ]
    }
   ],
   "source": [
    "# treinando o modelo\n",
    "model = LightFM(\n",
    "    no_components=10,\n",
    "    learning_rate=0.05,\n",
    "    loss='warp',\n",
    "    random_state=2019)\n",
    "\n",
    "model = model.fit(interactions_train,\n",
    "                  user_features=user_features,\n",
    "                  epochs=10,\n",
    "                  num_threads=16, verbose=True)"
   ]
  },
  {
   "cell_type": "code",
   "execution_count": 310,
   "metadata": {},
   "outputs": [
    {
     "data": {
      "text/plain": [
       "0.9964019"
      ]
     },
     "execution_count": 310,
     "metadata": {},
     "output_type": "execute_result"
    }
   ],
   "source": [
    "auc_score(model, \n",
    "          interactions_train, \n",
    "          user_features=user_features, \n",
    "          num_threads=4).mean()"
   ]
  },
  {
   "cell_type": "code",
   "execution_count": 311,
   "metadata": {
    "scrolled": false
   },
   "outputs": [
    {
     "data": {
      "text/plain": [
       "0.99179095"
      ]
     },
     "execution_count": 311,
     "metadata": {},
     "output_type": "execute_result"
    }
   ],
   "source": [
    "auc_score(model, \n",
    "          interactions_test, \n",
    "          user_features=user_features, \n",
    "          train_interactions=interactions_train, \n",
    "          num_threads=4).mean()"
   ]
  },
  {
   "cell_type": "code",
   "execution_count": 314,
   "metadata": {},
   "outputs": [
    {
     "data": {
      "text/plain": [
       "array([ -7.53376436,  -7.41914082,  -7.35525513, ..., -10.82087326,\n",
       "        -7.40526867,  -2.700881  ])"
      ]
     },
     "execution_count": 314,
     "metadata": {},
     "output_type": "execute_result"
    }
   ],
   "source": [
    "\"\"\" \n",
    "    Esse bloco de código faz a predição para um novo usuário, baseado nas features dele. \n",
    "    Nesse caso, precisamos construir a matriz de features para esse usuário.\n",
    "\"\"\"\n",
    "new_user_feature_list = [5] # só perfil de investidor por enquanto. esse usuario tera o perfil 5\n",
    "\n",
    "target_indices = []\n",
    "for feature in new_user_feature_list:\n",
    "    target_indices.append(user_feature_map[feature])\n",
    "    \n",
    "new_user_features = np.zeros(len(user_feature_map.keys()))\n",
    "for i in target_indices:\n",
    "    new_user_features[i] = 1\n",
    "new_user_features = sps.csr_matrix(new_user_features)\n",
    "\n",
    "\"\"\"\n",
    " O modelo gera um score pra cada produto. Falta fazer o mapeamento para os produtos do dataset\n",
    " usando o item_id_map gerado pelo Lightfm, e ordenar os scores.\n",
    "\"\"\"\n",
    "\n",
    "model.predict(0, np.arange(num_items), user_features=new_user_features)"
   ]
  },
  {
   "cell_type": "code",
   "execution_count": null,
   "metadata": {},
   "outputs": [],
   "source": [
    "# para fazer uma predição pra um usuário já existente\n",
    "model.predict([user_index, ], np.array(target_item_indices))"
   ]
  }
 ],
 "metadata": {
  "kernelspec": {
   "display_name": "Python 3",
   "language": "python",
   "name": "python3"
  },
  "language_info": {
   "codemirror_mode": {
    "name": "ipython",
    "version": 3
   },
   "file_extension": ".py",
   "mimetype": "text/x-python",
   "name": "python",
   "nbconvert_exporter": "python",
   "pygments_lexer": "ipython3",
   "version": "3.7.6"
  }
 },
 "nbformat": 4,
 "nbformat_minor": 4
}
