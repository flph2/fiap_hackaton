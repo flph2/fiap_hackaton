{
 "cells": [
  {
   "cell_type": "code",
   "execution_count": 119,
   "metadata": {},
   "outputs": [],
   "source": [
    "import pandas as pd\n",
    "import numpy as np"
   ]
  },
  {
   "cell_type": "code",
   "execution_count": 260,
   "metadata": {},
   "outputs": [],
   "source": [
    "df_cliente_produto = pd.read_csv('Dataset-1-v2.csv')\n",
    "df_page_views = pd.read_csv('Dataset-2.csv', )\n",
    "df_produtos = pd.read_csv('Dataset-3.csv')"
   ]
  },
  {
   "cell_type": "code",
   "execution_count": 261,
   "metadata": {},
   "outputs": [],
   "source": [
    "# Junta todas as respostas em uma só coluna\n",
    "\n",
    "respostas_col = [col for col in df_cliente_produto if col.startswith('resposta')]\n",
    "df_cliente_produto[respostas_col] = df_cliente_produto[respostas_col].astype(str)\n",
    "df_cliente_produto['respostas'] = df_cliente_produto[respostas_col].apply(\n",
    "    lambda x: '|'.join(x), axis=1)"
   ]
  },
  {
   "cell_type": "code",
   "execution_count": 265,
   "metadata": {},
   "outputs": [],
   "source": [
    "# Selecionando apenas as colunas relativas ao perfil do cliente\n",
    "\n",
    "df_clientes = df_cliente_produto[['userid', 'idade', 'genero', 'estadocivil', 'billingcity',\n",
    "       'profissaopessoa', 'patrimonioautomoveis', 'patrimonioimoveis',\n",
    "       'patrimonioinvestimentos', 'patrimoniooutros', 'produto',\n",
    "       'valorrendimento', 'dataefetivacao', 'nivelconhecimentoatual',\n",
    "       'scorenivelconhecimento', 'perfilinvestidor', 'rendamensal',\n",
    "       'valorpatrimonio', 'respostas', 'scorerisco', 'scoreobjetivos',\n",
    "       'scoresituacaofinanceira', 'createddate', 'dataclienteefetivado']]"
   ]
  },
  {
   "cell_type": "code",
   "execution_count": 266,
   "metadata": {
    "scrolled": true
   },
   "outputs": [
    {
     "data": {
      "text/plain": [
       "(52857, 24)"
      ]
     },
     "execution_count": 266,
     "metadata": {},
     "output_type": "execute_result"
    }
   ],
   "source": [
    "df_clientes.shape"
   ]
  },
  {
   "cell_type": "code",
   "execution_count": 267,
   "metadata": {},
   "outputs": [],
   "source": [
    "# Removendo os perfis duplicados\n",
    "\n",
    "df_clientes = df_clientes[~df_clientes['userid'].duplicated()]"
   ]
  },
  {
   "cell_type": "code",
   "execution_count": 268,
   "metadata": {},
   "outputs": [
    {
     "data": {
      "text/plain": [
       "(13315, 24)"
      ]
     },
     "execution_count": 268,
     "metadata": {},
     "output_type": "execute_result"
    }
   ],
   "source": [
    "df_clientes.shape"
   ]
  },
  {
   "cell_type": "code",
   "execution_count": 269,
   "metadata": {},
   "outputs": [],
   "source": [
    "def generate_int_id(dataframe, id_col_name):\n",
    "    \"\"\"\n",
    "    Generate unique integer id for clients and products\n",
    "\n",
    "    Parameters\n",
    "    ----------\n",
    "    dataframe: Dataframe\n",
    "        Pandas Dataframe for Users or Q&A. \n",
    "    id_col_name : String \n",
    "        New integer id's column name.\n",
    "        \n",
    "    Returns\n",
    "    -------\n",
    "    Dataframe\n",
    "        Updated dataframe containing new id column \n",
    "    \"\"\"\n",
    "    new_dataframe=dataframe.assign(\n",
    "        int_id_col_name=np.arange(len(dataframe))\n",
    "        ).reset_index(drop=True)\n",
    "    return new_dataframe.rename(columns={'int_id_col_name': id_col_name})"
   ]
  },
  {
   "cell_type": "code",
   "execution_count": 270,
   "metadata": {},
   "outputs": [],
   "source": [
    "df_clientes = generate_int_id(df_clientes, 'cliente_id_num')\n",
    "df_produtos = generate_int_id(df_produtos, 'produto_id_num')"
   ]
  },
  {
   "cell_type": "code",
   "execution_count": 271,
   "metadata": {},
   "outputs": [],
   "source": [
    "# Populando cliente_id_num no dataset com os relacionamentos\n",
    "\n",
    "df_cliente_produto = pd.merge(\n",
    "    df_cliente_produto, \n",
    "    df_clientes[['userid','cliente_id_num']],\n",
    "    on='userid', \n",
    "    how='left'\n",
    ")"
   ]
  },
  {
   "cell_type": "code",
   "execution_count": 272,
   "metadata": {},
   "outputs": [
    {
     "data": {
      "text/plain": [
       "'Até 1 ano|Multiplicar meu dinheiro, com a possibilidade de perdas|Até 30%|Aplico mais|None|None|None|None|None|None|Ações|None|None|None|None|None|None|None|None|None|Poupança|None|Previdência|Fundos de investimento|Ações e derivativos|Mais de  50% da minha renda|Tenho experiência'"
      ]
     },
     "execution_count": 272,
     "metadata": {},
     "output_type": "execute_result"
    }
   ],
   "source": [
    "df_cliente_produto['respostas'][0]"
   ]
  },
  {
   "cell_type": "code",
   "execution_count": null,
   "metadata": {},
   "outputs": [],
   "source": []
  },
  {
   "cell_type": "code",
   "execution_count": null,
   "metadata": {},
   "outputs": [],
   "source": []
  },
  {
   "cell_type": "code",
   "execution_count": null,
   "metadata": {},
   "outputs": [],
   "source": []
  }
 ],
 "metadata": {
  "kernelspec": {
   "display_name": "Python 3",
   "language": "python",
   "name": "python3"
  },
  "language_info": {
   "codemirror_mode": {
    "name": "ipython",
    "version": 3
   },
   "file_extension": ".py",
   "mimetype": "text/x-python",
   "name": "python",
   "nbconvert_exporter": "python",
   "pygments_lexer": "ipython3",
   "version": "3.7.6"
  }
 },
 "nbformat": 4,
 "nbformat_minor": 4
}
